{
 "cells": [
  {
   "cell_type": "markdown",
   "metadata": {},
   "source": [
    "# Machine Learning Homework 2 (deadline: October 8th, 10:15)\n",
    "## Regression, regularization and cross-validation"
   ]
  },
  {
   "cell_type": "markdown",
   "metadata": {},
   "source": [
    "In this homework you will experiment with linear regression and see what happens when we use regularized versions of it. More precisely, you will try out Ridge and Lasso regularization. In addition, we will see how using cross-validation helps us to get more stable estimates for our performance."
   ]
  },
  {
   "cell_type": "markdown",
   "metadata": {},
   "source": [
    "Read in the data in **data.csv** and split it into training (50%) and testing (50%) set. Use random seed 0 (train_test_split method)."
   ]
  },
  {
   "cell_type": "markdown",
   "metadata": {},
   "source": [
    "## Import shit"
   ]
  },
  {
   "cell_type": "code",
   "execution_count": 28,
   "metadata": {},
   "outputs": [],
   "source": [
    "import pandas as pd\n",
    "import numpy as np\n",
    "import matplotlib.pyplot as plt\n",
    "\n",
    "from sklearn.model_selection import train_test_split, KFold\n",
    "from sklearn.linear_model import LinearRegression, Lasso, Ridge"
   ]
  },
  {
   "cell_type": "code",
   "execution_count": 9,
   "metadata": {},
   "outputs": [],
   "source": [
    "data = pd.read_csv(\"data.csv\", index_col = 0)\n",
    "## YOUR CODE\n",
    "## Add intercept\n",
    "X = data.drop('y', axis=1)\n",
    "y = data[['y']]\n",
    "\n",
    "X_train, X_test, y_train, y_test = train_test_split(X, y, random_state=0, test_size=0.5)"
   ]
  },
  {
   "cell_type": "markdown",
   "metadata": {},
   "source": [
    "## Task 1. Multivariate linear regression (1 point)"
   ]
  },
  {
   "cell_type": "markdown",
   "metadata": {},
   "source": [
    "#### <font color='purple'>(a) Implement the fitting procedure of non-regularized multivariate ordinary least squares linear regression, as presented in the lecture slides (matrix operations). Fit on the training data and save the coefficients and the intercept for use in subtask (1c). Print out the coefficients corresponding to the five first features."
   ]
  },
  {
   "cell_type": "code",
   "execution_count": 10,
   "metadata": {},
   "outputs": [
    {
     "name": "stdout",
     "output_type": "stream",
     "text": [
      "Coefficients of five first features according to my implementation: [[11.85875833]\n",
      " [ 7.7562925 ]\n",
      " [ 9.63087962]\n",
      " [ 6.99932448]\n",
      " [ 4.99498325]]\n"
     ]
    }
   ],
   "source": [
    "## YOUR CODE\n",
    "X_train_w0 = X_train.assign(intercept = 1)\n",
    "w = np.linalg.inv(X_train_w0.T.dot(X_train_w0)).dot(X_train_w0.T.dot(y_train))\n",
    "intercept, coeff = w[-1], w[:-1]\n",
    "print('Coefficients of five first features according to my implementation:', w[:5])"
   ]
  },
  {
   "cell_type": "markdown",
   "metadata": {},
   "source": [
    "#### <font color='purple'>(b) Call out the `sklearn.linear_model.LinearRegression` learning algorithm from the sklearn package. Fit the model on the training data and save it for use in the following subtasks. Print out the coefficients corresponding to the five first features."
   ]
  },
  {
   "cell_type": "code",
   "execution_count": 11,
   "metadata": {},
   "outputs": [
    {
     "name": "stdout",
     "output_type": "stream",
     "text": [
      "Coefficients of five first features according to sklearn: [11.85875833  7.7562925   9.63087962  6.99932448  4.99498325]\n"
     ]
    }
   ],
   "source": [
    "## YOUR CODE\n",
    "lr = LinearRegression().fit(X_train, y_train)\n",
    "print('Coefficients of five first features according to sklearn:', lr.coef_[0][:5])"
   ]
  },
  {
   "cell_type": "markdown",
   "metadata": {},
   "source": [
    "#### <font color='purple'>(c) Demonstrate that the methods of subtasks (1a) and (1b) give the same results by showing that they find the same coefficients (don't forget the intercept). </font>\n",
    "\n",
    "You maybe won't get exactly the same results because of precision problems of floats so feel free to compare if the values are equal up to some precision (e.g. check if difference is less than 0.0000001 etc). You can use code similar to what has been given below, but you might need to change some things depending on where the intercept is in your implementation."
   ]
  },
  {
   "cell_type": "code",
   "execution_count": 12,
   "metadata": {},
   "outputs": [],
   "source": [
    "assert(abs(intercept - lr.intercept_) < 0.000001)\n",
    "for i in range(99):\n",
    "    assert(abs(coeff[i] - lr.coef_[0, i]) < 0.000001)"
   ]
  },
  {
   "cell_type": "markdown",
   "metadata": {},
   "source": [
    "#### <font color='purple'>(d) Using the sklearn model from subtask (1b) predict the results on the training and testing set and calculate and show the root mean square errors (RMSE). Since you need to do the same evaluation in future tasks also, please implement a function 'evaluate' for this."
   ]
  },
  {
   "cell_type": "code",
   "execution_count": 13,
   "metadata": {},
   "outputs": [
    {
     "name": "stdout",
     "output_type": "stream",
     "text": [
      "\n",
      "#################\n",
      "\n",
      "LinearRegression(copy_X=True, fit_intercept=True, n_jobs=None,\n",
      "         normalize=False) \n",
      "\n",
      "RMSE train: y    2.407999e-14\n",
      "dtype: float64\n",
      "RMSE test: y    7.715131\n",
      "dtype: float64\n"
     ]
    },
    {
     "data": {
      "text/plain": [
       "(y    2.407999e-14\n",
       " dtype: float64, y    7.715131\n",
       " dtype: float64)"
      ]
     },
     "execution_count": 13,
     "metadata": {},
     "output_type": "execute_result"
    }
   ],
   "source": [
    "def evaluate(regression_model, trainX, trainY, testX, testY, verbose=True):\n",
    "    ## YOUR CODE\n",
    "    mse_tr = ((regression_model.predict(trainX) - trainY)**2).mean()\n",
    "    mse_te = ((regression_model.predict(testX) - testY)**2).mean()\n",
    "    \n",
    "    rmse_tr = np.sqrt(mse_tr)\n",
    "    rmse_te = np.sqrt(mse_te)\n",
    "    \n",
    "    if(verbose):\n",
    "        print(\"\\n#################\\n\")\n",
    "        print(regression_model, '\\n')\n",
    "        print(\"RMSE train:\", rmse_tr)\n",
    "        print(\"RMSE test:\", rmse_te)\n",
    "    \n",
    "    return rmse_tr, rmse_te\n",
    "\n",
    "evaluate(lr, X_train, y_train, X_test, y_test)"
   ]
  },
  {
   "cell_type": "markdown",
   "metadata": {},
   "source": [
    "## Task 2. Ridge & Lambda regularized regression  (1 point)"
   ]
  },
  {
   "cell_type": "markdown",
   "metadata": {},
   "source": [
    "This blogpost might clarify regularization a bit: https://towardsdatascience.com/l1-and-l2-regularization-methods-ce25e7fc831c"
   ]
  },
  {
   "cell_type": "markdown",
   "metadata": {},
   "source": [
    "#### <font color='purple'>(a) Implement the fitting procedure of ridge regression, as presented in the lecture slides (matrix operations). Fit on the training data with regularization parameter equal to 1 and save the coefficients and the intercept for use in subtask (2c). Print out the coefficients corresponding to the five first features."
   ]
  },
  {
   "cell_type": "code",
   "execution_count": 14,
   "metadata": {},
   "outputs": [
    {
     "name": "stdout",
     "output_type": "stream",
     "text": [
      "(100, 100)\n",
      "Coefficients of five first features according to my implementation: [[7.91026896]\n",
      " [7.37023604]\n",
      " [6.97156822]\n",
      " [6.03240044]\n",
      " [4.42825097]]\n"
     ]
    }
   ],
   "source": [
    "## YOUR CODE\n",
    "print(X_train_w0.shape)\n",
    "reg_par = 1\n",
    "w = np.linalg.inv(X_train_w0.T.dot(X_train_w0) + reg_par * np.identity(X_train_w0.shape[0])).dot(X_train_w0.T.dot(y_train))\n",
    "rid_intercept, rid_coeff = w[-1], w[:-1]\n",
    "print('Coefficients of five first features according to my implementation:', rid_coeff[:5])"
   ]
  },
  {
   "cell_type": "markdown",
   "metadata": {},
   "source": [
    "#### <font color='purple'>(b) Call out the `sklearn.linear_model.Ridge` learning algorithm from the sklearn package. Fit the model on the training data with regularization parameter equal to 1 and save it for use in the following subtasks. Print out the coefficients corresponding to the five first features.</font>\n",
    "\n",
    "Use parameters `solver = \"cholesky\", tol = 0.000000000001` in order to get more similar results to your own implementation. The default parameter for the regularization is already 1 so no need to specify that. The parameters `solver` and `tol` are necessary to force sklearn to use closed-form solution. Otherwise it would use numerical optimization which would give more different results from yours. **In the future tasks, please use the default option and don't force it to use the closed-form solution (numerical will be faster!).**"
   ]
  },
  {
   "cell_type": "code",
   "execution_count": 15,
   "metadata": {},
   "outputs": [
    {
     "name": "stdout",
     "output_type": "stream",
     "text": [
      "Coefficients of five first features according to my implementation: [[7.91026896]\n",
      " [7.37023604]\n",
      " [6.97156822]\n",
      " [6.03240044]\n",
      " [4.42825097]]\n"
     ]
    }
   ],
   "source": [
    "## YOUR CODE\n",
    "rid = Ridge(solver=\"cholesky\", tol=0.000000000001).fit(X_train, y_train)\n",
    "print('Coefficients of five first features according to my implementation:', rid_coeff[:5])"
   ]
  },
  {
   "cell_type": "markdown",
   "metadata": {},
   "source": [
    "#### <font color='purple'>(c) Demonstrate the correctess of your implementation the same way as in the previous exercise. For this compare your coefficients and intercept as obtained in subtask (2a) with the coeffiecients and intercept from sklearn, as obtained in subtask (2b). The results can actually vary quite a bit due to implementation differences in matrix operations. Compare that the differences in results (coefficients and intercept) are less than 0.02."
   ]
  },
  {
   "cell_type": "code",
   "execution_count": 16,
   "metadata": {},
   "outputs": [],
   "source": [
    "## YOUR CODE\n",
    "assert(abs(rid_intercept - rid.intercept_) < 0.02)\n",
    "for i in range(99):\n",
    "    assert(abs(rid_coeff[i] - rid.coef_[0, i]) < 0.02)"
   ]
  },
  {
   "cell_type": "markdown",
   "metadata": {},
   "source": [
    "#### <font color='purple'>(d) Train a Lasso model using the sklearn package (use the default regularization parameter) and save it for future use. Print out the coefficients corresponding to the five first features.</font>"
   ]
  },
  {
   "cell_type": "code",
   "execution_count": 17,
   "metadata": {},
   "outputs": [
    {
     "name": "stdout",
     "output_type": "stream",
     "text": [
      "Coefficients of five first features according to my implementation: [[7.91026896]\n",
      " [7.37023604]\n",
      " [6.97156822]\n",
      " [6.03240044]\n",
      " [4.42825097]]\n"
     ]
    }
   ],
   "source": [
    "## YOUR CODE\n",
    "lasso = Lasso().fit(X_train, y_train)\n",
    "print('Coefficients of five first features according to my implementation:', rid_coeff[:5])"
   ]
  },
  {
   "cell_type": "markdown",
   "metadata": {},
   "source": [
    "#### <font color='purple'>(e) Evaluate the sklearn Ridge and Lasso models on the training and testing set and calculate and show the RMSE, using the function 'evaluate' from subtask (1d)."
   ]
  },
  {
   "cell_type": "code",
   "execution_count": 18,
   "metadata": {},
   "outputs": [
    {
     "name": "stdout",
     "output_type": "stream",
     "text": [
      "Evaluate Ridge: \n",
      "\n",
      "#################\n",
      "\n",
      "Ridge(alpha=1.0, copy_X=True, fit_intercept=True, max_iter=None,\n",
      "   normalize=False, random_state=None, solver='cholesky', tol=1e-12) \n",
      "\n",
      "RMSE train: y    0.515938\n",
      "dtype: float64\n",
      "RMSE test: y    4.44622\n",
      "dtype: float64\n",
      "Evaluate Lasso: \n",
      "\n",
      "#################\n",
      "\n",
      "Lasso(alpha=1.0, copy_X=True, fit_intercept=True, max_iter=1000,\n",
      "   normalize=False, positive=False, precompute=False, random_state=None,\n",
      "   selection='cyclic', tol=0.0001, warm_start=False) \n",
      "\n",
      "RMSE train: 4.984130516628728\n",
      "RMSE test: 5.400343154987264\n"
     ]
    },
    {
     "data": {
      "text/plain": [
       "(4.984130516628728, 5.400343154987264)"
      ]
     },
     "execution_count": 18,
     "metadata": {},
     "output_type": "execute_result"
    }
   ],
   "source": [
    "## YOUR CODE\n",
    "print(\"Evaluate Ridge: \")\n",
    "evaluate(rid, X_train, y_train, X_test, y_test)\n",
    "\n",
    "print(\"Evaluate Lasso: \")\n",
    "evaluate(lasso, X_train, y_train['y'], X_test, y_test['y'])\n"
   ]
  },
  {
   "cell_type": "markdown",
   "metadata": {},
   "source": [
    "## Task 3. Choosing a suitable regularization parameter  (1 point)"
   ]
  },
  {
   "cell_type": "markdown",
   "metadata": {},
   "source": [
    "Since different parameters can lead to very different results we need to do some parameter tuning and find a suitable regularization parameter for both Ridge and Lasso. We could try out different values and see which ones lead to the best results on the test set. However, then we would overfit to our test data and we would not have an adequate estimate of how good the model is in the end. That is why we need to do parameter tuning only using the training set.\n",
    "\n",
    "Use **alphas = np.linspace(0.01, 10, 100)** for Ridge and **alphas = np.linspace(0.01, 5, 100)** for Lasso. The method generates 100 values with equal steps between the first and second parameter."
   ]
  },
  {
   "cell_type": "markdown",
   "metadata": {},
   "source": [
    "#### <font color='purple'>(a) **Method 1:** Divide the training set into training and validation set using 90%/10% split and a random seed 0 (train_test_split method). Train Ridge and Lasso models with different alpha values on the training set and calculate the RMSE values on the validation set. Choose and report the alpha that has the best RMSE for Ridge and another alpha that has best RMSE for Lasso (save both alpha and RMSE values)."
   ]
  },
  {
   "cell_type": "code",
   "execution_count": 50,
   "metadata": {},
   "outputs": [],
   "source": [
    "def getRMSE(model, alpha, X_train, y_train, X_test, y_test):\n",
    "    w = model.set_params(alpha = alpha).fit(X_train, y_train)\n",
    "    _, test_rmse = evaluate(model, X_train, y_train, X_test, y_test, False)\n",
    "    return test_rmse\n",
    "\n",
    "def getXandYFromData(data):\n",
    "    X = data.drop('y', axis=1)\n",
    "    y = data['y']\n",
    "    return X, y\n",
    "\n",
    "def getTrainTestSplit(data, testSize, random_seed):\n",
    "    X,y = getXandYFromData(data)\n",
    "    return train_test_split(X, y, random_state=random_seed, test_size=testSize)\n",
    "\n",
    "def getBestAlphaRmseForAlphas(model, alphas, X_train, y_train, X_test, y_test):\n",
    "    rmse, best_alpha = -1, 0\n",
    "    for alpha in alphas:\n",
    "        rmse_tmp = getRMSE(model, alpha, X_train, y_train, X_test, y_test)\n",
    "        if rmse_tmp < rmse or rmse == -1:\n",
    "            rmse, best_alpha = rmse_tmp, alpha\n",
    "    return best_alpha,rmse\n",
    "\n",
    "def getKFoldRmseSum(kf, model, data, alpha):\n",
    "    rmse_sum = 0\n",
    "    X,y = getXandYFromData(data)\n",
    "    for train_indices, test_indices in kf.split(X, y):\n",
    "        X_train, X_test = X.iloc[train_indices], X.iloc[test_indices]\n",
    "        y_train, y_test = y.iloc[train_indices], y.iloc[test_indices]\n",
    "        rmse_sum += getRMSE(model, alpha, X_train, y_train, X_test, y_test)\n",
    "    return rmse_sum"
   ]
  },
  {
   "cell_type": "code",
   "execution_count": 51,
   "metadata": {},
   "outputs": [
    {
     "data": {
      "text/plain": [
       "(0.01, 0.7491922102868802)"
      ]
     },
     "execution_count": 51,
     "metadata": {},
     "output_type": "execute_result"
    }
   ],
   "source": [
    "def method_1(model, data, alphas, random_seed):\n",
    "    X_train, X_test, y_train, y_test = getTrainTestSplit(data, 0.1, random_seed)\n",
    "    return getBestAlphaRmseForAlphas(model, alphas, X_train, y_train, X_test, y_test)\n",
    "\n",
    "rid_alphas = np.linspace(0.01, 10, 100)\n",
    "lasso_alphas = np.linspace(0.01, 5, 100)\n",
    "\n",
    "\n",
    "method_1(Ridge(), data, rid_alphas, 0) ## ridge\n",
    "method_1(Lasso(), data, lasso_alphas, 0) ## lasso"
   ]
  },
  {
   "cell_type": "markdown",
   "metadata": {},
   "source": [
    "#### <font color='purple'>(b) **Method 2:** Instead of doing only one training/validation split, use 10-fold cross validation. For each alpha value calculate the validation errors for each of the folds and average the results. Then choose and report the alpha that has the best RMSE for Ridge and another alpha that has best RMSE for Lasso (save both alpha and RMSE values). For doing the 10-fold split use the sklearn method KFold (kf = KFold(n_splits=10, random_state = 0, shuffle = True)). To see more about how to iterate through the folds see the documentation for the method."
   ]
  },
  {
   "cell_type": "code",
   "execution_count": 52,
   "metadata": {},
   "outputs": [
    {
     "data": {
      "text/plain": [
       "(0.01, 0.6933687187795554)"
      ]
     },
     "execution_count": 52,
     "metadata": {},
     "output_type": "execute_result"
    }
   ],
   "source": [
    "def method_2(model, alphas, data, random_seed):\n",
    "    kf = KFold(n_splits=10, random_state = random_seed, shuffle = True)\n",
    "    rmse, best_alpha = -1, 0\n",
    "    for alpha in alphas:\n",
    "        rmse_sum = getKFoldRmseSum(kf, model, data, alpha)\n",
    "        avg_rmse = rmse_sum / kf.get_n_splits()\n",
    "        if avg_rmse < rmse or rmse == -1:\n",
    "            rmse, best_alpha = avg_rmse, alpha\n",
    "    return best_alpha,rmse\n",
    "\n",
    "method_2(Ridge(), rid_alphas, data, 0) ## ridge\n",
    "method_2(Lasso(), lasso_alphas, data, 0) ## lasso"
   ]
  },
  {
   "cell_type": "markdown",
   "metadata": {},
   "source": [
    "## Task 4. Comparing the stability of Method 1 and Method 2  (1 point)"
   ]
  },
  {
   "cell_type": "markdown",
   "metadata": {},
   "source": [
    "#### <font color='purple'>(a) Run Method 1 and Method 2 both 10 times, every time using a different value 0,1,2,...,9 as the random_state. Report the best alpha and RMSE for both parameter tuning methods and for both regularization methods for each of the 10 trials."
   ]
  },
  {
   "cell_type": "markdown",
   "metadata": {},
   "source": [
    "### Lasso"
   ]
  },
  {
   "cell_type": "code",
   "execution_count": 53,
   "metadata": {},
   "outputs": [
    {
     "data": {
      "text/html": [
       "<div>\n",
       "<style scoped>\n",
       "    .dataframe tbody tr th:only-of-type {\n",
       "        vertical-align: middle;\n",
       "    }\n",
       "\n",
       "    .dataframe tbody tr th {\n",
       "        vertical-align: top;\n",
       "    }\n",
       "\n",
       "    .dataframe thead th {\n",
       "        text-align: right;\n",
       "    }\n",
       "</style>\n",
       "<table border=\"1\" class=\"dataframe\">\n",
       "  <thead>\n",
       "    <tr style=\"text-align: right;\">\n",
       "      <th></th>\n",
       "      <th>Regularization method</th>\n",
       "      <th>RMSE</th>\n",
       "      <th>Alpha</th>\n",
       "      <th>Random state</th>\n",
       "      <th>Method idx</th>\n",
       "    </tr>\n",
       "  </thead>\n",
       "  <tbody>\n",
       "    <tr>\n",
       "      <th>0</th>\n",
       "      <td>Lasso</td>\n",
       "      <td>0.749192</td>\n",
       "      <td>0.010000</td>\n",
       "      <td>0</td>\n",
       "      <td>1</td>\n",
       "    </tr>\n",
       "    <tr>\n",
       "      <th>1</th>\n",
       "      <td>Lasso</td>\n",
       "      <td>0.693369</td>\n",
       "      <td>0.010000</td>\n",
       "      <td>0</td>\n",
       "      <td>2</td>\n",
       "    </tr>\n",
       "    <tr>\n",
       "      <th>2</th>\n",
       "      <td>Ridge</td>\n",
       "      <td>0.872231</td>\n",
       "      <td>0.010000</td>\n",
       "      <td>0</td>\n",
       "      <td>1</td>\n",
       "    </tr>\n",
       "    <tr>\n",
       "      <th>3</th>\n",
       "      <td>Ridge</td>\n",
       "      <td>0.884071</td>\n",
       "      <td>0.110808</td>\n",
       "      <td>0</td>\n",
       "      <td>2</td>\n",
       "    </tr>\n",
       "    <tr>\n",
       "      <th>4</th>\n",
       "      <td>Lasso</td>\n",
       "      <td>0.552962</td>\n",
       "      <td>0.010000</td>\n",
       "      <td>1</td>\n",
       "      <td>1</td>\n",
       "    </tr>\n",
       "    <tr>\n",
       "      <th>5</th>\n",
       "      <td>Lasso</td>\n",
       "      <td>0.661993</td>\n",
       "      <td>0.010000</td>\n",
       "      <td>1</td>\n",
       "      <td>2</td>\n",
       "    </tr>\n",
       "    <tr>\n",
       "      <th>6</th>\n",
       "      <td>Ridge</td>\n",
       "      <td>0.849399</td>\n",
       "      <td>0.312424</td>\n",
       "      <td>1</td>\n",
       "      <td>1</td>\n",
       "    </tr>\n",
       "    <tr>\n",
       "      <th>7</th>\n",
       "      <td>Ridge</td>\n",
       "      <td>0.806203</td>\n",
       "      <td>0.262020</td>\n",
       "      <td>1</td>\n",
       "      <td>2</td>\n",
       "    </tr>\n",
       "    <tr>\n",
       "      <th>8</th>\n",
       "      <td>Lasso</td>\n",
       "      <td>0.650384</td>\n",
       "      <td>0.060404</td>\n",
       "      <td>2</td>\n",
       "      <td>1</td>\n",
       "    </tr>\n",
       "    <tr>\n",
       "      <th>9</th>\n",
       "      <td>Lasso</td>\n",
       "      <td>0.679472</td>\n",
       "      <td>0.010000</td>\n",
       "      <td>2</td>\n",
       "      <td>2</td>\n",
       "    </tr>\n",
       "    <tr>\n",
       "      <th>10</th>\n",
       "      <td>Ridge</td>\n",
       "      <td>0.862762</td>\n",
       "      <td>0.010000</td>\n",
       "      <td>2</td>\n",
       "      <td>1</td>\n",
       "    </tr>\n",
       "    <tr>\n",
       "      <th>11</th>\n",
       "      <td>Ridge</td>\n",
       "      <td>0.848389</td>\n",
       "      <td>0.110808</td>\n",
       "      <td>2</td>\n",
       "      <td>2</td>\n",
       "    </tr>\n",
       "    <tr>\n",
       "      <th>12</th>\n",
       "      <td>Lasso</td>\n",
       "      <td>0.688056</td>\n",
       "      <td>0.010000</td>\n",
       "      <td>3</td>\n",
       "      <td>1</td>\n",
       "    </tr>\n",
       "    <tr>\n",
       "      <th>13</th>\n",
       "      <td>Lasso</td>\n",
       "      <td>0.688048</td>\n",
       "      <td>0.010000</td>\n",
       "      <td>3</td>\n",
       "      <td>2</td>\n",
       "    </tr>\n",
       "    <tr>\n",
       "      <th>14</th>\n",
       "      <td>Ridge</td>\n",
       "      <td>0.947384</td>\n",
       "      <td>0.262020</td>\n",
       "      <td>3</td>\n",
       "      <td>1</td>\n",
       "    </tr>\n",
       "    <tr>\n",
       "      <th>15</th>\n",
       "      <td>Ridge</td>\n",
       "      <td>0.870792</td>\n",
       "      <td>0.161212</td>\n",
       "      <td>3</td>\n",
       "      <td>2</td>\n",
       "    </tr>\n",
       "    <tr>\n",
       "      <th>16</th>\n",
       "      <td>Lasso</td>\n",
       "      <td>0.682129</td>\n",
       "      <td>0.010000</td>\n",
       "      <td>4</td>\n",
       "      <td>1</td>\n",
       "    </tr>\n",
       "    <tr>\n",
       "      <th>17</th>\n",
       "      <td>Lasso</td>\n",
       "      <td>0.690135</td>\n",
       "      <td>0.010000</td>\n",
       "      <td>4</td>\n",
       "      <td>2</td>\n",
       "    </tr>\n",
       "    <tr>\n",
       "      <th>18</th>\n",
       "      <td>Ridge</td>\n",
       "      <td>0.740645</td>\n",
       "      <td>0.362828</td>\n",
       "      <td>4</td>\n",
       "      <td>1</td>\n",
       "    </tr>\n",
       "    <tr>\n",
       "      <th>19</th>\n",
       "      <td>Ridge</td>\n",
       "      <td>0.884307</td>\n",
       "      <td>0.010000</td>\n",
       "      <td>4</td>\n",
       "      <td>2</td>\n",
       "    </tr>\n",
       "    <tr>\n",
       "      <th>20</th>\n",
       "      <td>Lasso</td>\n",
       "      <td>0.574299</td>\n",
       "      <td>0.060404</td>\n",
       "      <td>5</td>\n",
       "      <td>1</td>\n",
       "    </tr>\n",
       "    <tr>\n",
       "      <th>21</th>\n",
       "      <td>Lasso</td>\n",
       "      <td>0.677100</td>\n",
       "      <td>0.010000</td>\n",
       "      <td>5</td>\n",
       "      <td>2</td>\n",
       "    </tr>\n",
       "    <tr>\n",
       "      <th>22</th>\n",
       "      <td>Ridge</td>\n",
       "      <td>0.809074</td>\n",
       "      <td>0.413232</td>\n",
       "      <td>5</td>\n",
       "      <td>1</td>\n",
       "    </tr>\n",
       "    <tr>\n",
       "      <th>23</th>\n",
       "      <td>Ridge</td>\n",
       "      <td>0.886845</td>\n",
       "      <td>0.110808</td>\n",
       "      <td>5</td>\n",
       "      <td>2</td>\n",
       "    </tr>\n",
       "    <tr>\n",
       "      <th>24</th>\n",
       "      <td>Lasso</td>\n",
       "      <td>0.692406</td>\n",
       "      <td>0.010000</td>\n",
       "      <td>6</td>\n",
       "      <td>1</td>\n",
       "    </tr>\n",
       "    <tr>\n",
       "      <th>25</th>\n",
       "      <td>Lasso</td>\n",
       "      <td>0.681710</td>\n",
       "      <td>0.010000</td>\n",
       "      <td>6</td>\n",
       "      <td>2</td>\n",
       "    </tr>\n",
       "    <tr>\n",
       "      <th>26</th>\n",
       "      <td>Ridge</td>\n",
       "      <td>0.797594</td>\n",
       "      <td>0.010000</td>\n",
       "      <td>6</td>\n",
       "      <td>1</td>\n",
       "    </tr>\n",
       "    <tr>\n",
       "      <th>27</th>\n",
       "      <td>Ridge</td>\n",
       "      <td>0.868226</td>\n",
       "      <td>0.010000</td>\n",
       "      <td>6</td>\n",
       "      <td>2</td>\n",
       "    </tr>\n",
       "    <tr>\n",
       "      <th>28</th>\n",
       "      <td>Lasso</td>\n",
       "      <td>0.711342</td>\n",
       "      <td>0.060404</td>\n",
       "      <td>7</td>\n",
       "      <td>1</td>\n",
       "    </tr>\n",
       "    <tr>\n",
       "      <th>29</th>\n",
       "      <td>Lasso</td>\n",
       "      <td>0.687854</td>\n",
       "      <td>0.010000</td>\n",
       "      <td>7</td>\n",
       "      <td>2</td>\n",
       "    </tr>\n",
       "    <tr>\n",
       "      <th>30</th>\n",
       "      <td>Ridge</td>\n",
       "      <td>0.929684</td>\n",
       "      <td>0.161212</td>\n",
       "      <td>7</td>\n",
       "      <td>1</td>\n",
       "    </tr>\n",
       "    <tr>\n",
       "      <th>31</th>\n",
       "      <td>Ridge</td>\n",
       "      <td>0.873889</td>\n",
       "      <td>0.010000</td>\n",
       "      <td>7</td>\n",
       "      <td>2</td>\n",
       "    </tr>\n",
       "    <tr>\n",
       "      <th>32</th>\n",
       "      <td>Lasso</td>\n",
       "      <td>0.592106</td>\n",
       "      <td>0.010000</td>\n",
       "      <td>8</td>\n",
       "      <td>1</td>\n",
       "    </tr>\n",
       "    <tr>\n",
       "      <th>33</th>\n",
       "      <td>Lasso</td>\n",
       "      <td>0.674997</td>\n",
       "      <td>0.010000</td>\n",
       "      <td>8</td>\n",
       "      <td>2</td>\n",
       "    </tr>\n",
       "    <tr>\n",
       "      <th>34</th>\n",
       "      <td>Ridge</td>\n",
       "      <td>0.647873</td>\n",
       "      <td>0.866869</td>\n",
       "      <td>8</td>\n",
       "      <td>1</td>\n",
       "    </tr>\n",
       "    <tr>\n",
       "      <th>35</th>\n",
       "      <td>Ridge</td>\n",
       "      <td>0.844929</td>\n",
       "      <td>0.060404</td>\n",
       "      <td>8</td>\n",
       "      <td>2</td>\n",
       "    </tr>\n",
       "    <tr>\n",
       "      <th>36</th>\n",
       "      <td>Lasso</td>\n",
       "      <td>0.614405</td>\n",
       "      <td>0.060404</td>\n",
       "      <td>9</td>\n",
       "      <td>1</td>\n",
       "    </tr>\n",
       "    <tr>\n",
       "      <th>37</th>\n",
       "      <td>Lasso</td>\n",
       "      <td>0.690256</td>\n",
       "      <td>0.010000</td>\n",
       "      <td>9</td>\n",
       "      <td>2</td>\n",
       "    </tr>\n",
       "    <tr>\n",
       "      <th>38</th>\n",
       "      <td>Ridge</td>\n",
       "      <td>0.920863</td>\n",
       "      <td>0.161212</td>\n",
       "      <td>9</td>\n",
       "      <td>1</td>\n",
       "    </tr>\n",
       "    <tr>\n",
       "      <th>39</th>\n",
       "      <td>Ridge</td>\n",
       "      <td>0.834195</td>\n",
       "      <td>0.110808</td>\n",
       "      <td>9</td>\n",
       "      <td>2</td>\n",
       "    </tr>\n",
       "  </tbody>\n",
       "</table>\n",
       "</div>"
      ],
      "text/plain": [
       "   Regularization method      RMSE     Alpha  Random state  Method idx\n",
       "0                  Lasso  0.749192  0.010000             0           1\n",
       "1                  Lasso  0.693369  0.010000             0           2\n",
       "2                  Ridge  0.872231  0.010000             0           1\n",
       "3                  Ridge  0.884071  0.110808             0           2\n",
       "4                  Lasso  0.552962  0.010000             1           1\n",
       "5                  Lasso  0.661993  0.010000             1           2\n",
       "6                  Ridge  0.849399  0.312424             1           1\n",
       "7                  Ridge  0.806203  0.262020             1           2\n",
       "8                  Lasso  0.650384  0.060404             2           1\n",
       "9                  Lasso  0.679472  0.010000             2           2\n",
       "10                 Ridge  0.862762  0.010000             2           1\n",
       "11                 Ridge  0.848389  0.110808             2           2\n",
       "12                 Lasso  0.688056  0.010000             3           1\n",
       "13                 Lasso  0.688048  0.010000             3           2\n",
       "14                 Ridge  0.947384  0.262020             3           1\n",
       "15                 Ridge  0.870792  0.161212             3           2\n",
       "16                 Lasso  0.682129  0.010000             4           1\n",
       "17                 Lasso  0.690135  0.010000             4           2\n",
       "18                 Ridge  0.740645  0.362828             4           1\n",
       "19                 Ridge  0.884307  0.010000             4           2\n",
       "20                 Lasso  0.574299  0.060404             5           1\n",
       "21                 Lasso  0.677100  0.010000             5           2\n",
       "22                 Ridge  0.809074  0.413232             5           1\n",
       "23                 Ridge  0.886845  0.110808             5           2\n",
       "24                 Lasso  0.692406  0.010000             6           1\n",
       "25                 Lasso  0.681710  0.010000             6           2\n",
       "26                 Ridge  0.797594  0.010000             6           1\n",
       "27                 Ridge  0.868226  0.010000             6           2\n",
       "28                 Lasso  0.711342  0.060404             7           1\n",
       "29                 Lasso  0.687854  0.010000             7           2\n",
       "30                 Ridge  0.929684  0.161212             7           1\n",
       "31                 Ridge  0.873889  0.010000             7           2\n",
       "32                 Lasso  0.592106  0.010000             8           1\n",
       "33                 Lasso  0.674997  0.010000             8           2\n",
       "34                 Ridge  0.647873  0.866869             8           1\n",
       "35                 Ridge  0.844929  0.060404             8           2\n",
       "36                 Lasso  0.614405  0.060404             9           1\n",
       "37                 Lasso  0.690256  0.010000             9           2\n",
       "38                 Ridge  0.920863  0.161212             9           1\n",
       "39                 Ridge  0.834195  0.110808             9           2"
      ]
     },
     "execution_count": 53,
     "metadata": {},
     "output_type": "execute_result"
    }
   ],
   "source": [
    "lasso_alphas = np.linspace(0.01, 5, 100)\n",
    "rid_alphas = np.linspace(0.01, 10, 100)\n",
    "results = {'Regularization method': [], 'RMSE': [], 'Alpha':[], 'Random state': [], 'Method idx': []}\n",
    "\n",
    "def append_result(results, reg_method, rmse, alpha, rand_state, method):\n",
    "    results['Regularization method'].append(reg_method) \n",
    "    results['RMSE'].append(rmse)\n",
    "    results['Alpha'].append(alpha)\n",
    "    results['Random state'].append(rand_state)\n",
    "    results['Method idx'].append(method)\n",
    "\n",
    "for i in range(10):\n",
    "    rmse_for_alpha = {}\n",
    "    lasso_alpha_1, lasso_rmse_1 = method_1(Lasso(), data, lasso_alphas, i)\n",
    "    lasso_alpha_2, lasso_rmse_2 = method_2(Lasso(), lasso_alphas, data, i) \n",
    "    append_result(results, 'Lasso', lasso_rmse_1, lasso_alpha_1, i, 1)\n",
    "    append_result(results, 'Lasso', lasso_rmse_2, lasso_alpha_2, i, 2)\n",
    "    \n",
    "    rid_alpha_1, rid_rmse_1 = method_1(Ridge(), data, lasso_alphas, i) \n",
    "    rid_alpha_2, rid_rmse_2 = method_2(Ridge(), lasso_alphas, data, i) \n",
    "    append_result(results, 'Ridge', rid_rmse_1, rid_alpha_1, i, 1)\n",
    "    append_result(results, 'Ridge', rid_rmse_2, rid_alpha_2, i, 2)\n",
    "    \n",
    "result_df = pd.DataFrame(results)\n",
    "result_df"
   ]
  },
  {
   "cell_type": "code",
   "execution_count": 54,
   "metadata": {},
   "outputs": [
    {
     "data": {
      "text/html": [
       "<div>\n",
       "<style scoped>\n",
       "    .dataframe tbody tr th:only-of-type {\n",
       "        vertical-align: middle;\n",
       "    }\n",
       "\n",
       "    .dataframe tbody tr th {\n",
       "        vertical-align: top;\n",
       "    }\n",
       "\n",
       "    .dataframe thead th {\n",
       "        text-align: right;\n",
       "    }\n",
       "</style>\n",
       "<table border=\"1\" class=\"dataframe\">\n",
       "  <thead>\n",
       "    <tr style=\"text-align: right;\">\n",
       "      <th></th>\n",
       "      <th>Regularization method</th>\n",
       "      <th>RMSE</th>\n",
       "      <th>Alpha</th>\n",
       "      <th>Random state</th>\n",
       "      <th>Method idx</th>\n",
       "    </tr>\n",
       "  </thead>\n",
       "  <tbody>\n",
       "    <tr>\n",
       "      <th>4</th>\n",
       "      <td>Lasso</td>\n",
       "      <td>0.552962</td>\n",
       "      <td>0.010000</td>\n",
       "      <td>1</td>\n",
       "      <td>1</td>\n",
       "    </tr>\n",
       "    <tr>\n",
       "      <th>20</th>\n",
       "      <td>Lasso</td>\n",
       "      <td>0.574299</td>\n",
       "      <td>0.060404</td>\n",
       "      <td>5</td>\n",
       "      <td>1</td>\n",
       "    </tr>\n",
       "    <tr>\n",
       "      <th>32</th>\n",
       "      <td>Lasso</td>\n",
       "      <td>0.592106</td>\n",
       "      <td>0.010000</td>\n",
       "      <td>8</td>\n",
       "      <td>1</td>\n",
       "    </tr>\n",
       "    <tr>\n",
       "      <th>36</th>\n",
       "      <td>Lasso</td>\n",
       "      <td>0.614405</td>\n",
       "      <td>0.060404</td>\n",
       "      <td>9</td>\n",
       "      <td>1</td>\n",
       "    </tr>\n",
       "    <tr>\n",
       "      <th>34</th>\n",
       "      <td>Ridge</td>\n",
       "      <td>0.647873</td>\n",
       "      <td>0.866869</td>\n",
       "      <td>8</td>\n",
       "      <td>1</td>\n",
       "    </tr>\n",
       "    <tr>\n",
       "      <th>8</th>\n",
       "      <td>Lasso</td>\n",
       "      <td>0.650384</td>\n",
       "      <td>0.060404</td>\n",
       "      <td>2</td>\n",
       "      <td>1</td>\n",
       "    </tr>\n",
       "    <tr>\n",
       "      <th>5</th>\n",
       "      <td>Lasso</td>\n",
       "      <td>0.661993</td>\n",
       "      <td>0.010000</td>\n",
       "      <td>1</td>\n",
       "      <td>2</td>\n",
       "    </tr>\n",
       "    <tr>\n",
       "      <th>33</th>\n",
       "      <td>Lasso</td>\n",
       "      <td>0.674997</td>\n",
       "      <td>0.010000</td>\n",
       "      <td>8</td>\n",
       "      <td>2</td>\n",
       "    </tr>\n",
       "    <tr>\n",
       "      <th>21</th>\n",
       "      <td>Lasso</td>\n",
       "      <td>0.677100</td>\n",
       "      <td>0.010000</td>\n",
       "      <td>5</td>\n",
       "      <td>2</td>\n",
       "    </tr>\n",
       "    <tr>\n",
       "      <th>9</th>\n",
       "      <td>Lasso</td>\n",
       "      <td>0.679472</td>\n",
       "      <td>0.010000</td>\n",
       "      <td>2</td>\n",
       "      <td>2</td>\n",
       "    </tr>\n",
       "    <tr>\n",
       "      <th>25</th>\n",
       "      <td>Lasso</td>\n",
       "      <td>0.681710</td>\n",
       "      <td>0.010000</td>\n",
       "      <td>6</td>\n",
       "      <td>2</td>\n",
       "    </tr>\n",
       "    <tr>\n",
       "      <th>16</th>\n",
       "      <td>Lasso</td>\n",
       "      <td>0.682129</td>\n",
       "      <td>0.010000</td>\n",
       "      <td>4</td>\n",
       "      <td>1</td>\n",
       "    </tr>\n",
       "    <tr>\n",
       "      <th>29</th>\n",
       "      <td>Lasso</td>\n",
       "      <td>0.687854</td>\n",
       "      <td>0.010000</td>\n",
       "      <td>7</td>\n",
       "      <td>2</td>\n",
       "    </tr>\n",
       "    <tr>\n",
       "      <th>13</th>\n",
       "      <td>Lasso</td>\n",
       "      <td>0.688048</td>\n",
       "      <td>0.010000</td>\n",
       "      <td>3</td>\n",
       "      <td>2</td>\n",
       "    </tr>\n",
       "    <tr>\n",
       "      <th>12</th>\n",
       "      <td>Lasso</td>\n",
       "      <td>0.688056</td>\n",
       "      <td>0.010000</td>\n",
       "      <td>3</td>\n",
       "      <td>1</td>\n",
       "    </tr>\n",
       "    <tr>\n",
       "      <th>17</th>\n",
       "      <td>Lasso</td>\n",
       "      <td>0.690135</td>\n",
       "      <td>0.010000</td>\n",
       "      <td>4</td>\n",
       "      <td>2</td>\n",
       "    </tr>\n",
       "    <tr>\n",
       "      <th>37</th>\n",
       "      <td>Lasso</td>\n",
       "      <td>0.690256</td>\n",
       "      <td>0.010000</td>\n",
       "      <td>9</td>\n",
       "      <td>2</td>\n",
       "    </tr>\n",
       "    <tr>\n",
       "      <th>24</th>\n",
       "      <td>Lasso</td>\n",
       "      <td>0.692406</td>\n",
       "      <td>0.010000</td>\n",
       "      <td>6</td>\n",
       "      <td>1</td>\n",
       "    </tr>\n",
       "    <tr>\n",
       "      <th>1</th>\n",
       "      <td>Lasso</td>\n",
       "      <td>0.693369</td>\n",
       "      <td>0.010000</td>\n",
       "      <td>0</td>\n",
       "      <td>2</td>\n",
       "    </tr>\n",
       "    <tr>\n",
       "      <th>28</th>\n",
       "      <td>Lasso</td>\n",
       "      <td>0.711342</td>\n",
       "      <td>0.060404</td>\n",
       "      <td>7</td>\n",
       "      <td>1</td>\n",
       "    </tr>\n",
       "    <tr>\n",
       "      <th>18</th>\n",
       "      <td>Ridge</td>\n",
       "      <td>0.740645</td>\n",
       "      <td>0.362828</td>\n",
       "      <td>4</td>\n",
       "      <td>1</td>\n",
       "    </tr>\n",
       "    <tr>\n",
       "      <th>0</th>\n",
       "      <td>Lasso</td>\n",
       "      <td>0.749192</td>\n",
       "      <td>0.010000</td>\n",
       "      <td>0</td>\n",
       "      <td>1</td>\n",
       "    </tr>\n",
       "    <tr>\n",
       "      <th>26</th>\n",
       "      <td>Ridge</td>\n",
       "      <td>0.797594</td>\n",
       "      <td>0.010000</td>\n",
       "      <td>6</td>\n",
       "      <td>1</td>\n",
       "    </tr>\n",
       "    <tr>\n",
       "      <th>7</th>\n",
       "      <td>Ridge</td>\n",
       "      <td>0.806203</td>\n",
       "      <td>0.262020</td>\n",
       "      <td>1</td>\n",
       "      <td>2</td>\n",
       "    </tr>\n",
       "    <tr>\n",
       "      <th>22</th>\n",
       "      <td>Ridge</td>\n",
       "      <td>0.809074</td>\n",
       "      <td>0.413232</td>\n",
       "      <td>5</td>\n",
       "      <td>1</td>\n",
       "    </tr>\n",
       "    <tr>\n",
       "      <th>39</th>\n",
       "      <td>Ridge</td>\n",
       "      <td>0.834195</td>\n",
       "      <td>0.110808</td>\n",
       "      <td>9</td>\n",
       "      <td>2</td>\n",
       "    </tr>\n",
       "    <tr>\n",
       "      <th>35</th>\n",
       "      <td>Ridge</td>\n",
       "      <td>0.844929</td>\n",
       "      <td>0.060404</td>\n",
       "      <td>8</td>\n",
       "      <td>2</td>\n",
       "    </tr>\n",
       "    <tr>\n",
       "      <th>11</th>\n",
       "      <td>Ridge</td>\n",
       "      <td>0.848389</td>\n",
       "      <td>0.110808</td>\n",
       "      <td>2</td>\n",
       "      <td>2</td>\n",
       "    </tr>\n",
       "    <tr>\n",
       "      <th>6</th>\n",
       "      <td>Ridge</td>\n",
       "      <td>0.849399</td>\n",
       "      <td>0.312424</td>\n",
       "      <td>1</td>\n",
       "      <td>1</td>\n",
       "    </tr>\n",
       "    <tr>\n",
       "      <th>10</th>\n",
       "      <td>Ridge</td>\n",
       "      <td>0.862762</td>\n",
       "      <td>0.010000</td>\n",
       "      <td>2</td>\n",
       "      <td>1</td>\n",
       "    </tr>\n",
       "    <tr>\n",
       "      <th>27</th>\n",
       "      <td>Ridge</td>\n",
       "      <td>0.868226</td>\n",
       "      <td>0.010000</td>\n",
       "      <td>6</td>\n",
       "      <td>2</td>\n",
       "    </tr>\n",
       "    <tr>\n",
       "      <th>15</th>\n",
       "      <td>Ridge</td>\n",
       "      <td>0.870792</td>\n",
       "      <td>0.161212</td>\n",
       "      <td>3</td>\n",
       "      <td>2</td>\n",
       "    </tr>\n",
       "    <tr>\n",
       "      <th>2</th>\n",
       "      <td>Ridge</td>\n",
       "      <td>0.872231</td>\n",
       "      <td>0.010000</td>\n",
       "      <td>0</td>\n",
       "      <td>1</td>\n",
       "    </tr>\n",
       "    <tr>\n",
       "      <th>31</th>\n",
       "      <td>Ridge</td>\n",
       "      <td>0.873889</td>\n",
       "      <td>0.010000</td>\n",
       "      <td>7</td>\n",
       "      <td>2</td>\n",
       "    </tr>\n",
       "    <tr>\n",
       "      <th>3</th>\n",
       "      <td>Ridge</td>\n",
       "      <td>0.884071</td>\n",
       "      <td>0.110808</td>\n",
       "      <td>0</td>\n",
       "      <td>2</td>\n",
       "    </tr>\n",
       "    <tr>\n",
       "      <th>19</th>\n",
       "      <td>Ridge</td>\n",
       "      <td>0.884307</td>\n",
       "      <td>0.010000</td>\n",
       "      <td>4</td>\n",
       "      <td>2</td>\n",
       "    </tr>\n",
       "    <tr>\n",
       "      <th>23</th>\n",
       "      <td>Ridge</td>\n",
       "      <td>0.886845</td>\n",
       "      <td>0.110808</td>\n",
       "      <td>5</td>\n",
       "      <td>2</td>\n",
       "    </tr>\n",
       "    <tr>\n",
       "      <th>38</th>\n",
       "      <td>Ridge</td>\n",
       "      <td>0.920863</td>\n",
       "      <td>0.161212</td>\n",
       "      <td>9</td>\n",
       "      <td>1</td>\n",
       "    </tr>\n",
       "    <tr>\n",
       "      <th>30</th>\n",
       "      <td>Ridge</td>\n",
       "      <td>0.929684</td>\n",
       "      <td>0.161212</td>\n",
       "      <td>7</td>\n",
       "      <td>1</td>\n",
       "    </tr>\n",
       "    <tr>\n",
       "      <th>14</th>\n",
       "      <td>Ridge</td>\n",
       "      <td>0.947384</td>\n",
       "      <td>0.262020</td>\n",
       "      <td>3</td>\n",
       "      <td>1</td>\n",
       "    </tr>\n",
       "  </tbody>\n",
       "</table>\n",
       "</div>"
      ],
      "text/plain": [
       "   Regularization method      RMSE     Alpha  Random state  Method idx\n",
       "4                  Lasso  0.552962  0.010000             1           1\n",
       "20                 Lasso  0.574299  0.060404             5           1\n",
       "32                 Lasso  0.592106  0.010000             8           1\n",
       "36                 Lasso  0.614405  0.060404             9           1\n",
       "34                 Ridge  0.647873  0.866869             8           1\n",
       "8                  Lasso  0.650384  0.060404             2           1\n",
       "5                  Lasso  0.661993  0.010000             1           2\n",
       "33                 Lasso  0.674997  0.010000             8           2\n",
       "21                 Lasso  0.677100  0.010000             5           2\n",
       "9                  Lasso  0.679472  0.010000             2           2\n",
       "25                 Lasso  0.681710  0.010000             6           2\n",
       "16                 Lasso  0.682129  0.010000             4           1\n",
       "29                 Lasso  0.687854  0.010000             7           2\n",
       "13                 Lasso  0.688048  0.010000             3           2\n",
       "12                 Lasso  0.688056  0.010000             3           1\n",
       "17                 Lasso  0.690135  0.010000             4           2\n",
       "37                 Lasso  0.690256  0.010000             9           2\n",
       "24                 Lasso  0.692406  0.010000             6           1\n",
       "1                  Lasso  0.693369  0.010000             0           2\n",
       "28                 Lasso  0.711342  0.060404             7           1\n",
       "18                 Ridge  0.740645  0.362828             4           1\n",
       "0                  Lasso  0.749192  0.010000             0           1\n",
       "26                 Ridge  0.797594  0.010000             6           1\n",
       "7                  Ridge  0.806203  0.262020             1           2\n",
       "22                 Ridge  0.809074  0.413232             5           1\n",
       "39                 Ridge  0.834195  0.110808             9           2\n",
       "35                 Ridge  0.844929  0.060404             8           2\n",
       "11                 Ridge  0.848389  0.110808             2           2\n",
       "6                  Ridge  0.849399  0.312424             1           1\n",
       "10                 Ridge  0.862762  0.010000             2           1\n",
       "27                 Ridge  0.868226  0.010000             6           2\n",
       "15                 Ridge  0.870792  0.161212             3           2\n",
       "2                  Ridge  0.872231  0.010000             0           1\n",
       "31                 Ridge  0.873889  0.010000             7           2\n",
       "3                  Ridge  0.884071  0.110808             0           2\n",
       "19                 Ridge  0.884307  0.010000             4           2\n",
       "23                 Ridge  0.886845  0.110808             5           2\n",
       "38                 Ridge  0.920863  0.161212             9           1\n",
       "30                 Ridge  0.929684  0.161212             7           1\n",
       "14                 Ridge  0.947384  0.262020             3           1"
      ]
     },
     "execution_count": 54,
     "metadata": {},
     "output_type": "execute_result"
    }
   ],
   "source": [
    "result_df.sort_values(by=['RMSE'])"
   ]
  },
  {
   "cell_type": "markdown",
   "metadata": {},
   "source": [
    "#### <font color='purple'>(b) What can you say about the stability of the methods? Which one gives more stable information about which alpha to use? Which alpha values turn out to be best in the end for these data?"
   ]
  },
  {
   "cell_type": "markdown",
   "metadata": {},
   "source": [
    "**Answer:**"
   ]
  },
  {
   "cell_type": "markdown",
   "metadata": {},
   "source": [
    "#### <font color='purple'>(c) Create two plots (one for Ridge and one for Lasso) where on each plot there are two boxplots - one for showing the distribution of the RMSE values for the 10 trials for Method 1 and the other for Method 2."
   ]
  },
  {
   "cell_type": "code",
   "execution_count": 55,
   "metadata": {},
   "outputs": [
    {
     "data": {
      "text/plain": [
       "{'whiskers': [<matplotlib.lines.Line2D at 0x7f33e2fbbf28>,\n",
       "  <matplotlib.lines.Line2D at 0x7f33e2fbbef0>,\n",
       "  <matplotlib.lines.Line2D at 0x7f33e2ec0518>,\n",
       "  <matplotlib.lines.Line2D at 0x7f33e2ec0860>],\n",
       " 'caps': [<matplotlib.lines.Line2D at 0x7f33e3921a20>,\n",
       "  <matplotlib.lines.Line2D at 0x7f33e2eec7b8>,\n",
       "  <matplotlib.lines.Line2D at 0x7f33e2ec0ba8>,\n",
       "  <matplotlib.lines.Line2D at 0x7f33e2ec0ef0>],\n",
       " 'boxes': [<matplotlib.lines.Line2D at 0x7f33e2fbbb38>,\n",
       "  <matplotlib.lines.Line2D at 0x7f33e2eecef0>],\n",
       " 'medians': [<matplotlib.lines.Line2D at 0x7f33e2eecb00>,\n",
       "  <matplotlib.lines.Line2D at 0x7f33e2ec0eb8>],\n",
       " 'fliers': [<matplotlib.lines.Line2D at 0x7f33e2eece48>,\n",
       "  <matplotlib.lines.Line2D at 0x7f33e32585c0>],\n",
       " 'means': []}"
      ]
     },
     "execution_count": 55,
     "metadata": {},
     "output_type": "execute_result"
    },
    {
     "data": {
      "image/png": "[encoded data removed]",
      "text/plain": [
       "<Figure size 432x288 with 2 Axes>"
      ]
     },
     "metadata": {
      "needs_background": "light"
     },
     "output_type": "display_data"
    }
   ],
   "source": [
    "## YOUR CODE\n",
    "fig, axs = plt.subplots(2)\n",
    "\n",
    "# Lasso boxplot\n",
    "lasso_1_rmse = result_df[(result_df['Regularization method'] == 'Lasso') & (result_df['Method idx'] == 1)]['RMSE']\n",
    "lasso_2_rmse = result_df[(result_df['Regularization method'] == 'Lasso') & (result_df['Method idx'] == 2)]['RMSE']\n",
    "axs[0].boxplot((lasso_1_rmse, lasso_2_rmse))\n",
    "\n",
    "# Ridge boxplot\n",
    "rid_1_rmse = result_df[(result_df['Regularization method'] == 'Ridge') & (result_df['Method idx'] == 1)]['RMSE']\n",
    "rid_2_rmse = result_df[(result_df['Regularization method'] == 'Ridge') & (result_df['Method idx'] == 2)]['RMSE']\n",
    "axs[1].boxplot((rid_1_rmse, rid_2_rmse))"
   ]
  },
  {
   "cell_type": "code",
   "execution_count": 56,
   "metadata": {},
   "outputs": [
    {
     "data": {
      "text/plain": [
       "{'whiskers': [<matplotlib.lines.Line2D at 0x7f33e2b2f978>,\n",
       "  <matplotlib.lines.Line2D at 0x7f33e2b2fcc0>,\n",
       "  <matplotlib.lines.Line2D at 0x7f33e2a88d30>,\n",
       "  <matplotlib.lines.Line2D at 0x7f33e2a95438>],\n",
       " 'caps': [<matplotlib.lines.Line2D at 0x7f33e2b2ff98>,\n",
       "  <matplotlib.lines.Line2D at 0x7f33e2a88390>,\n",
       "  <matplotlib.lines.Line2D at 0x7f33e2a95780>,\n",
       "  <matplotlib.lines.Line2D at 0x7f33e2a95ac8>],\n",
       " 'boxes': [<matplotlib.lines.Line2D at 0x7f33e2b2f588>,\n",
       "  <matplotlib.lines.Line2D at 0x7f33e2a88d68>],\n",
       " 'medians': [<matplotlib.lines.Line2D at 0x7f33e2a886d8>,\n",
       "  <matplotlib.lines.Line2D at 0x7f33e2a95e10>],\n",
       " 'fliers': [<matplotlib.lines.Line2D at 0x7f33e2a88a20>,\n",
       "  <matplotlib.lines.Line2D at 0x7f33e2a95dd8>],\n",
       " 'means': []}"
      ]
     },
     "execution_count": 56,
     "metadata": {},
     "output_type": "execute_result"
    },
    {
     "data": {
      "image/png": "[encoded data removed]",
      "text/plain": [
       "<Figure size 432x288 with 1 Axes>"
      ]
     },
     "metadata": {
      "needs_background": "light"
     },
     "output_type": "display_data"
    },
    {
     "data": {
      "image/png": "[encoded data removed]",
      "text/plain": [
       "<Figure size 432x288 with 1 Axes>"
      ]
     },
     "metadata": {
      "needs_background": "light"
     },
     "output_type": "display_data"
    }
   ],
   "source": [
    "## YOUR CODE\n",
    "\n",
    "# Lasso boxplot\n",
    "plt.figure()\n",
    "lasso_1_rmse = result_df[(result_df['Regularization method'] == 'Lasso') & (result_df['Method idx'] == 1)]['RMSE']\n",
    "lasso_2_rmse = result_df[(result_df['Regularization method'] == 'Lasso') & (result_df['Method idx'] == 2)]['RMSE']\n",
    "plt.title('Lasso')\n",
    "plt.boxplot((lasso_1_rmse, lasso_2_rmse))\n",
    "\n",
    "# Ridge boxplot\n",
    "plt.figure()\n",
    "rid_1_rmse = result_df[(result_df['Regularization method'] == 'Ridge') & (result_df['Method idx'] == 1)]['RMSE']\n",
    "rid_2_rmse = result_df[(result_df['Regularization method'] == 'Ridge') & (result_df['Method idx'] == 2)]['RMSE']\n",
    "plt.title('Ridge')\n",
    "plt.boxplot((rid_1_rmse, rid_2_rmse))"
   ]
  },
  {
   "cell_type": "markdown",
   "metadata": {},
   "source": [
    "#### <font color='purple'>(d) Comment on why the results look like they do? In general, when tuning parameters, is it better to use one training-validation split or K-fold cross-validation? Why?"
   ]
  },
  {
   "cell_type": "markdown",
   "metadata": {},
   "source": [
    "**Answer:**"
   ]
  },
  {
   "cell_type": "markdown",
   "metadata": {},
   "source": [
    "## Task 5. Regularization parameter effect on the coefficients  (1 point)"
   ]
  },
  {
   "cell_type": "markdown",
   "metadata": {},
   "source": [
    "#### <font color='purple'>(a) The regularization parameter influences the values of the coefficients. Create two plots (one for Ridge and one for Lasso) that have the regularization parameter on the x-axis and coefficient values on the y-axis. You don't have to take all 99 values, you can take for example the first 20. Show each coefficient as a line (on the same plot) and comment on what happens when the regularization parameter increases. </font>"
   ]
  },
  {
   "cell_type": "code",
   "execution_count": null,
   "metadata": {
    "collapsed": true
   },
   "outputs": [],
   "source": [
    "## YOUR CODE"
   ]
  },
  {
   "cell_type": "markdown",
   "metadata": {},
   "source": [
    "#### <font color='purple'>(b) What does Ridge regression do and what does Lasso regression do? How do they differ? </font>"
   ]
  },
  {
   "cell_type": "markdown",
   "metadata": {},
   "source": [
    "**Answer:**"
   ]
  },
  {
   "cell_type": "markdown",
   "metadata": {},
   "source": [
    "## Task 6. Evaluating different models  (1 point)"
   ]
  },
  {
   "cell_type": "markdown",
   "metadata": {},
   "source": [
    "#### <font color='purple'>(a) Choose the values of alpha for Ridge and Lasso according to subtask (4b). Now let's see which model works best for our data by evaluating the test RMSE. Compare the following models by reporting the training and testing set RMSE: </font>\n",
    "\n",
    "1. Non-regularized linear regression\n",
    "2. Ridge regression with your chosen parameter\n",
    "3. Lasso regression with your chosen parameter\n",
    "4. A \"dumb\" model that always predicts the mean value of y_train\n",
    "5. An ideal model that the instructors have used for generating the data (the true coefficients are [10, 9, 8, 7, 6, 5, 4, 3, 2, 1, 0, 0, ..., 0] and intercept 0)."
   ]
  },
  {
   "cell_type": "code",
   "execution_count": null,
   "metadata": {
    "collapsed": true
   },
   "outputs": [],
   "source": [
    "## YOUR CODE"
   ]
  },
  {
   "cell_type": "markdown",
   "metadata": {},
   "source": [
    "#### <font color='purple'>(b) Which method gives the best results and by looking at which value do you claim that? Why did this method work the best in your opinion?"
   ]
  },
  {
   "cell_type": "markdown",
   "metadata": {},
   "source": [
    "**Answer:**"
   ]
  },
  {
   "cell_type": "markdown",
   "metadata": {},
   "source": [
    "#### <font color='purple'>(c) Were all of the \"smart\" models better than the \"dumb\" one. What would it mean if the learned model would give worse results?"
   ]
  },
  {
   "cell_type": "markdown",
   "metadata": {},
   "source": [
    "**Answer:**"
   ]
  },
  {
   "cell_type": "markdown",
   "metadata": {},
   "source": [
    "#### <font color='purple'>(d) Were the learned models far from the ideal one? Were the learned coefficients similar to the true ones?"
   ]
  },
  {
   "cell_type": "markdown",
   "metadata": {},
   "source": [
    "**Answer:**"
   ]
  },
  {
   "cell_type": "markdown",
   "metadata": {},
   "source": [
    "#### <font color='purple'>(e) Which model overfitted the most, how can you see that?"
   ]
  },
  {
   "cell_type": "markdown",
   "metadata": {},
   "source": [
    "**Answer:**"
   ]
  },
  {
   "cell_type": "markdown",
   "metadata": {},
   "source": [
    "#### <font color='purple'>(f) Are regularized methods always better than methods without regularization (not only in this case but in general). Why/why not?"
   ]
  },
  {
   "cell_type": "markdown",
   "metadata": {},
   "source": [
    "**Answer:**"
   ]
  },
  {
   "cell_type": "markdown",
   "metadata": {},
   "source": [
    "## Optional Bonus Task 7. Dual perceptron (Bonus, 1 point)"
   ]
  },
  {
   "cell_type": "markdown",
   "metadata": {},
   "source": [
    "#### <font color='purple'> Implement the dual perceptron algorithm. </font>"
   ]
  },
  {
   "cell_type": "markdown",
   "metadata": {},
   "source": [
    "<img src=\"dual_perceptron.png\" alt=\"Dual perceptron\" style=\"width: 500px;\"/>"
   ]
  },
  {
   "cell_type": "markdown",
   "metadata": {},
   "source": [
    "**Note:** check `pandas` [manual about indexing data](https://pandas.pydata.org/pandas-docs/stable/indexing.html) and [iterrows documentation](https://pandas.pydata.org/pandas-docs/stable/generated/pandas.DataFrame.iterrows.html), it could be useful"
   ]
  },
  {
   "cell_type": "code",
   "execution_count": null,
   "metadata": {
    "collapsed": true
   },
   "outputs": [],
   "source": [
    "x1 = np.array([5, 6, 7, 7, 8, 9, 0, 1, 2, 4, 5, 6])\n",
    "x2 = np.array([2, 1, 3, 5, 10, 3, 4, 8, 6, 10, 9, 11])\n",
    "y = np.array([1, 1, 1, 1, 1, 1, -1, -1, -1, -1, -1, -1])\n",
    "\n",
    "data = pd.DataFrame({'x1': x1, 'x2': x2, 'y':y})\n",
    "data['x0'] = np.ones_like(data['x1']) # Don't forget to create homogeneous coordinates!\n",
    "data = data[['x0', 'x1', 'x2', 'y']]\n",
    "data.head()"
   ]
  },
  {
   "cell_type": "code",
   "execution_count": null,
   "metadata": {
    "collapsed": true
   },
   "outputs": [],
   "source": [
    "def dual_perceptron(data):\n",
    "    # Your code goes here\n",
    "    return w"
   ]
  },
  {
   "cell_type": "markdown",
   "metadata": {},
   "source": [
    "Test your solution:"
   ]
  },
  {
   "cell_type": "code",
   "execution_count": null,
   "metadata": {
    "collapsed": true
   },
   "outputs": [],
   "source": [
    "w = dual_perceptron(data)\n",
    "xs= np.linspace(0,8,100)\n",
    "ys = (-1) * (w[1] / w[2]) * xs - w[0] / w[2]\n",
    "\n",
    "fig = plt.figure(figsize=(5,5))\n",
    "plt.plot(x1[y<0], x2[y<0], 'bo')\n",
    "plt.plot(x1[y>0], x2[y>0], 'ro')\n",
    "plt.yticks(np.arange(13))\n",
    "plt.xticks(np.arange(13))\n",
    "plt.plot(xs, ys, color = \"green\")\n",
    "\n",
    "plt.show()"
   ]
  }
 ],
 "metadata": {
  "anaconda-cloud": {},
  "kernelspec": {
   "display_name": "Python 3",
   "language": "python",
   "name": "python3"
  },
  "language_info": {
   "codemirror_mode": {
    "name": "ipython",
    "version": 3
   },
   "file_extension": ".py",
   "mimetype": "text/x-python",
   "name": "python",
   "nbconvert_exporter": "python",
   "pygments_lexer": "ipython3",
   "version": "3.7.1"
  }
 },
 "nbformat": 4,
 "nbformat_minor": 2
}
