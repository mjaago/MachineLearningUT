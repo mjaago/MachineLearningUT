{
 "cells": [
  {
   "cell_type": "markdown",
   "metadata": {},
   "source": [
    "# Machine Learning Homework 1 (deadline: September 24th, 10:15)"
   ]
  },
  {
   "cell_type": "markdown",
   "metadata": {},
   "source": [
    "#### Plagiarism disclaimer"
   ]
  },
  {
   "cell_type": "markdown",
   "metadata": {},
   "source": [
    "We would like you to write all the algorithms by yourself, because it helps you to understand and remember them. However, you have an option to use some pieces of code from public external sources (e.g. Stack Overflow), but only with proper citation. In this case you can receive 80% max per each task where you used public external code. If you use but don't cite a piece of public external code then we consider it to be plagiarism. Use of external code that is not publicly available online is forbidden. \n",
    "\n",
    "NB! For visualization purposes (plotting) you may use any code you want, not much to understand there."
   ]
  },
  {
   "cell_type": "markdown",
   "metadata": {},
   "source": [
    "If you get caught with a clear case of plagiarism:\n",
    "\n",
    "- If there are no previous problems depending on the situation you might get away with just getting 0 points for the task and get a warning from us. Note that the curriculum manager would also be informed.\n",
    "- If the problem appears several times or we know that you have already warnings from other courses, the dean's office will be informed and this can lead to expelling.\n"
   ]
  },
  {
   "cell_type": "markdown",
   "metadata": {},
   "source": [
    "## Task 0. \n",
    "### <font color='purple'>Use Python to print \"Hello World! I will not plagiarize!\". Here and in the following the ellipsis (...) stands for a place which needs to be replaced with your own code.</font>"
   ]
  },
  {
   "cell_type": "code",
   "execution_count": 1,
   "metadata": {},
   "outputs": [],
   "source": [
    "# YOUR CODE STARTS\n",
    "...\n",
    "# YOUR CODE ENDS"
   ]
  },
  {
   "cell_type": "markdown",
   "metadata": {},
   "source": [
    "### <font color='purple'>Please make sure that you have all the following packages installed: </font>"
   ]
  },
  {
   "cell_type": "code",
   "execution_count": 35,
   "metadata": {},
   "outputs": [],
   "source": [
    "import pandas as pd\n",
    "import numpy as np\n",
    "import time\n",
    "import matplotlib.pyplot as plt\n",
    "from collections import defaultdict\n",
    "plt.style.use('seaborn-whitegrid') # Plot style"
   ]
  },
  {
   "cell_type": "code",
   "execution_count": 3,
   "metadata": {},
   "outputs": [],
   "source": [
    "from numpy.random import multivariate_normal, seed\n",
    "from sklearn.dummy import DummyClassifier\n",
    "from sklearn.linear_model import Perceptron\n",
    "from sklearn.neighbors import KNeighborsClassifier\n",
    "from sklearn.naive_bayes import GaussianNB"
   ]
  },
  {
   "cell_type": "markdown",
   "metadata": {},
   "source": [
    "## Task 1. Basic linear classifier (1 point)"
   ]
  },
  {
   "cell_type": "markdown",
   "metadata": {},
   "source": [
    "#### <font color='purple'>(a) Check the [documentation](https://pandas.pydata.org/pandas-docs/stable/generated/pandas.DataFrame.html) and define a `pandas` dataframe using the arrays given below. Please store your dataframe in the variable `data`. It should contain 3 columns and 12 rows. "
   ]
  },
  {
   "cell_type": "code",
   "execution_count": 4,
   "metadata": {},
   "outputs": [
    {
     "data": {
      "text/html": [
       "<div>\n",
       "<style scoped>\n",
       "    .dataframe tbody tr th:only-of-type {\n",
       "        vertical-align: middle;\n",
       "    }\n",
       "\n",
       "    .dataframe tbody tr th {\n",
       "        vertical-align: top;\n",
       "    }\n",
       "\n",
       "    .dataframe thead th {\n",
       "        text-align: right;\n",
       "    }\n",
       "</style>\n",
       "<table border=\"1\" class=\"dataframe\">\n",
       "  <thead>\n",
       "    <tr style=\"text-align: right;\">\n",
       "      <th></th>\n",
       "      <th>x1</th>\n",
       "      <th>x2</th>\n",
       "      <th>y</th>\n",
       "    </tr>\n",
       "  </thead>\n",
       "  <tbody>\n",
       "    <tr>\n",
       "      <th>0</th>\n",
       "      <td>5</td>\n",
       "      <td>2</td>\n",
       "      <td>1</td>\n",
       "    </tr>\n",
       "    <tr>\n",
       "      <th>1</th>\n",
       "      <td>6</td>\n",
       "      <td>1</td>\n",
       "      <td>1</td>\n",
       "    </tr>\n",
       "    <tr>\n",
       "      <th>2</th>\n",
       "      <td>7</td>\n",
       "      <td>3</td>\n",
       "      <td>1</td>\n",
       "    </tr>\n",
       "    <tr>\n",
       "      <th>3</th>\n",
       "      <td>7</td>\n",
       "      <td>5</td>\n",
       "      <td>1</td>\n",
       "    </tr>\n",
       "    <tr>\n",
       "      <th>4</th>\n",
       "      <td>8</td>\n",
       "      <td>10</td>\n",
       "      <td>1</td>\n",
       "    </tr>\n",
       "    <tr>\n",
       "      <th>5</th>\n",
       "      <td>9</td>\n",
       "      <td>3</td>\n",
       "      <td>1</td>\n",
       "    </tr>\n",
       "    <tr>\n",
       "      <th>6</th>\n",
       "      <td>0</td>\n",
       "      <td>4</td>\n",
       "      <td>-1</td>\n",
       "    </tr>\n",
       "    <tr>\n",
       "      <th>7</th>\n",
       "      <td>1</td>\n",
       "      <td>8</td>\n",
       "      <td>-1</td>\n",
       "    </tr>\n",
       "    <tr>\n",
       "      <th>8</th>\n",
       "      <td>2</td>\n",
       "      <td>6</td>\n",
       "      <td>-1</td>\n",
       "    </tr>\n",
       "    <tr>\n",
       "      <th>9</th>\n",
       "      <td>4</td>\n",
       "      <td>10</td>\n",
       "      <td>-1</td>\n",
       "    </tr>\n",
       "    <tr>\n",
       "      <th>10</th>\n",
       "      <td>5</td>\n",
       "      <td>9</td>\n",
       "      <td>-1</td>\n",
       "    </tr>\n",
       "    <tr>\n",
       "      <th>11</th>\n",
       "      <td>6</td>\n",
       "      <td>11</td>\n",
       "      <td>-1</td>\n",
       "    </tr>\n",
       "  </tbody>\n",
       "</table>\n",
       "</div>"
      ],
      "text/plain": [
       "    x1  x2  y\n",
       "0    5   2  1\n",
       "1    6   1  1\n",
       "2    7   3  1\n",
       "3    7   5  1\n",
       "4    8  10  1\n",
       "5    9   3  1\n",
       "6    0   4 -1\n",
       "7    1   8 -1\n",
       "8    2   6 -1\n",
       "9    4  10 -1\n",
       "10   5   9 -1\n",
       "11   6  11 -1"
      ]
     },
     "execution_count": 4,
     "metadata": {},
     "output_type": "execute_result"
    }
   ],
   "source": [
    "x1 = np.array([5, 6, 7, 7, 8, 9, 0, 1, 2, 4, 5, 6])\n",
    "x2 = np.array([2, 1, 3, 5, 10, 3, 4, 8, 6, 10, 9, 11])\n",
    "y = np.array([1, 1, 1, 1, 1, 1, -1, -1, -1, -1, -1, -1])\n",
    "\n",
    "# YOUR CODE STARTS\n",
    "data = pd.DataFrame({'x1' : x1, 'x2' : x2, 'y' : y})\n",
    "# YOUR CODE ENDS\n",
    "\n",
    "data # this will show the first lines of the dataframe, helping us to check whether you got it right"
   ]
  },
  {
   "cell_type": "markdown",
   "metadata": {},
   "source": [
    "#### <font color='purple'>(b) Plot your data in axes `x1` and `x2`, highlight two classes with different colors, name the axes."
   ]
  },
  {
   "cell_type": "markdown",
   "metadata": {},
   "source": [
    "Feel free to use techniques from the notebook of the first practice session"
   ]
  },
  {
   "cell_type": "code",
   "execution_count": 5,
   "metadata": {},
   "outputs": [
    {
     "data": {
      "image/png": "[encoded data removed]",
      "text/plain": [
       "<Figure size 504x396 with 1 Axes>"
      ]
     },
     "metadata": {
      "needs_background": "light"
     },
     "output_type": "display_data"
    }
   ],
   "source": [
    "def plot_data(data):\n",
    "    # Plot function goes here\n",
    "    # We suggest to use plt.plot(...) for each class\n",
    "    # YOUR CODE STARTS\n",
    "    fig = plt.figure(figsize=(7, 5.5)) \n",
    "    \n",
    "    plt.plot(data[data['y'] == 1]['x1'], data[data['y'] == 1]['x2'], 'bo', label = '1')\n",
    "    plt.plot(data[data['y'] == -1]['x1'], data[data['y'] == -1]['x2'], 'ro', label = '-1')\n",
    "    plt.legend(markerscale=1)\n",
    "    plt.xlabel('x1')\n",
    "    plt.ylabel('x2')\n",
    "    plt.xlim(-2, 16)\n",
    "    plt.ylim(-2, 14)\n",
    "    \n",
    "\n",
    "    # YOUR CODE ENDS\n",
    "    \n",
    "plot_data(data)\n",
    "plt.show()"
   ]
  },
  {
   "cell_type": "markdown",
   "metadata": {},
   "source": [
    "#### <font color='purple'>(c) Find and highlight in the plot the center of mass for each of two classes as well as the middle point between these centers. </font>"
   ]
  },
  {
   "cell_type": "code",
   "execution_count": 6,
   "metadata": {},
   "outputs": [
    {
     "name": "stdout",
     "output_type": "stream",
     "text": [
      "Center of mass for class +1: (7.000000,4.000000)\n",
      "Center of mass for class -1: (3.000000,8.000000)\n",
      "Middle point between the two centers: (5.000000,6.000000)\n"
     ]
    },
    {
     "data": {
      "image/png": "[encoded data removed]",
      "text/plain": [
       "<Figure size 504x396 with 1 Axes>"
      ]
     },
     "metadata": {
      "needs_background": "light"
     },
     "output_type": "display_data"
    }
   ],
   "source": [
    "# Calculate values for pos_c1, pos_c1, neg_c1, neg_c2, m1, m2 which will all be printed below\n",
    "# YOUR CODE STARTS\n",
    "pos_c1 = np.mean(data[data['y'] == 1]['x1'])\n",
    "pos_c2 = np.mean(data[data['y'] == 1]['x2'])\n",
    "neg_c1 = np.mean(data[data['y'] == -1]['x1'])\n",
    "neg_c2 = np.mean(data[data['y'] == -1]['x2'])\n",
    "m1 = (pos_c1 + neg_c1) / 2\n",
    "m2 = (pos_c2 + neg_c2) / 2\n",
    "plot_data(data)\n",
    "plt.plot(pos_c1, pos_c2, 'b+', markersize=15, label='average pos')\n",
    "plt.plot(neg_c1, neg_c2, 'r+', markersize=15, label='average neg')\n",
    "plt.plot(m1, m2, 'k+', markersize=15, label='mid point')\n",
    "# YOUR CODE ENDS\n",
    "\n",
    "\n",
    "print(\"Center of mass for class +1: (%f,%f)\" % (pos_c1,pos_c2))\n",
    "print(\"Center of mass for class -1: (%f,%f)\" % (neg_c1,neg_c2))\n",
    "print(\"Middle point between the two centers: (%f,%f)\" % (m1,m2))"
   ]
  },
  {
   "cell_type": "markdown",
   "metadata": {},
   "source": [
    "#### <font color='purple'>(d) Find (or guess) the equation of the decision boundary line chosen by the basic linear classifier. For this you might need to use the positions of centers of mass and the middle point between them. Formula of a line through two points can help also:</font>"
   ]
  },
  {
   "cell_type": "markdown",
   "metadata": {},
   "source": [
    "$\\frac{x-x_1}{x_2-x_1} = \\frac{y-y_1}{y_2-y_1}$"
   ]
  },
  {
   "cell_type": "markdown",
   "metadata": {},
   "source": [
    "Answer: y = x + 1"
   ]
  },
  {
   "cell_type": "markdown",
   "metadata": {
    "collapsed": true
   },
   "source": [
    "#### <font color='purple'>(e) Plot the data together with the decision boundary line chosen by the basic linear classifier. For this you can make use of the equation that you obtained in the previous subtask.</font>"
   ]
  },
  {
   "cell_type": "code",
   "execution_count": 7,
   "metadata": {},
   "outputs": [
    {
     "data": {
      "image/png": "[encoded data removed]",
      "text/plain": [
       "<Figure size 504x396 with 1 Axes>"
      ]
     },
     "metadata": {
      "needs_background": "light"
     },
     "output_type": "display_data"
    }
   ],
   "source": [
    "plot_data(data) # first plot the data points\n",
    "\n",
    "# Write code to draw the line. Hint: you can use plt.plot(...) again \n",
    "# YOUR CODE STARTS\n",
    "plt.plot([0, 5, 10], [1, 6, 11], 'k--')\n",
    "# YOUR CODE ENDS\n",
    "\n",
    "plt.show()"
   ]
  },
  {
   "cell_type": "markdown",
   "metadata": {},
   "source": [
    "#### <font color='purple'>(f) Are there any misclassified instances? If yes, then please write their coordinates.</font>"
   ]
  },
  {
   "cell_type": "markdown",
   "metadata": {},
   "source": [
    "Answer: no"
   ]
  },
  {
   "cell_type": "markdown",
   "metadata": {},
   "source": [
    "#### <font color='purple'>(g) Are the classes linearly separable in the training data? If yes, then please report one line which separates the classes, by writing down its equation.</font>"
   ]
  },
  {
   "cell_type": "markdown",
   "metadata": {},
   "source": [
    "Answer: y = x + 1"
   ]
  },
  {
   "cell_type": "markdown",
   "metadata": {},
   "source": [
    "#### <font color='purple'>(h) Did you get help in this task from public external code (yes/no). If yes, then please provide the link also.</font>"
   ]
  },
  {
   "cell_type": "markdown",
   "metadata": {},
   "source": [
    "Answer: no"
   ]
  },
  {
   "cell_type": "markdown",
   "metadata": {},
   "source": [
    "## Task 2. Perceptron (1 point)"
   ]
  },
  {
   "cell_type": "markdown",
   "metadata": {},
   "source": [
    "#### <font color='purple'>(a) Implement the perceptron algorithm based on pseudocode from the first lecture: </font>"
   ]
  },
  {
   "cell_type": "markdown",
   "metadata": {},
   "source": [
    "<img src=\"perceptron_algorithm.png\" alt=\"perceptron_algorithm\" style=\"width: 400px;\"/>"
   ]
  },
  {
   "cell_type": "markdown",
   "metadata": {},
   "source": [
    "<font color='purple'>**Note:** check `pandas` [manual about indexing data](https://pandas.pydata.org/pandas-docs/stable/indexing.html) and [iterrows documentation](https://pandas.pydata.org/pandas-docs/stable/generated/pandas.DataFrame.iterrows.html), it could be useful, you may want to refresh your memories about the [dot product](https://docs.scipy.org/doc/numpy/reference/generated/numpy.dot.html) as well. Your final plot should be a picture similar to this:\n",
    "<img src=\"perceptron_result.png\" alt=\"perceptron_result\" style=\"width: 300px;\"/></font>"
   ]
  },
  {
   "cell_type": "code",
   "execution_count": 8,
   "metadata": {},
   "outputs": [
    {
     "name": "stdout",
     "output_type": "stream",
     "text": [
      "[1.0, 16.0, -10.0]\n"
     ]
    },
    {
     "data": {
      "image/png": "[encoded data removed]",
      "text/plain": [
       "<Figure size 504x396 with 1 Axes>"
      ]
     },
     "metadata": {
      "needs_background": "light"
     },
     "output_type": "display_data"
    }
   ],
   "source": [
    "def perceptron(data, w=[0,0,0], learning_rate=1):\n",
    "    # Write the code to train the perceptron, putting the final weights in variable `w` \n",
    "    # Optional challenge: Can you do it with less than 10 lines of code? (no extra points for this)\n",
    "    # YOUR CODE STARTS\n",
    "    converged = False\n",
    "    while not converged:\n",
    "        converged = True\n",
    "        for i in range(len(data)):\n",
    "            x = data.loc[i][['x0', 'x1', 'x2']]\n",
    "            y = data.loc[i]['y']\n",
    "            pred = x.dot(w)\n",
    "            if y * pred <= 0:\n",
    "                converged = False\n",
    "                w[0] = w[0] + learning_rate * y * x['x0']\n",
    "                w[1] = w[1] + learning_rate * y * x['x1']\n",
    "                w[2] = w[2] + learning_rate * y * x['x2']\n",
    "    return w\n",
    "\n",
    "data['x0'] = np.ones(len(data)) # Don't forget to create homogeneous coordinates!\n",
    "data = data[['x0', 'x1', 'x2', 'y']]  # Make column reordering\n",
    "w = perceptron(data)\n",
    "print(w)\n",
    "plot_data(data)\n",
    "# Finally plot the resulting decision boundary line\n",
    "# YOUR CODE STARTS\n",
    "x = np.arange(-1,10,0.1)\n",
    "y = (w[1] * x + w[0]) / w[2] * (-1)\n",
    "plt.plot(x, y, \"k--\")\n",
    "# YOUR CODE ENDS\n",
    "plt.show()"
   ]
  },
  {
   "cell_type": "markdown",
   "metadata": {},
   "source": [
    "#### <font color='purple'>(b) Did you get help from public external code (yes/no). If yes, then please provide the link also.</font>"
   ]
  },
  {
   "cell_type": "markdown",
   "metadata": {},
   "source": [
    "Answer: no"
   ]
  },
  {
   "cell_type": "markdown",
   "metadata": {},
   "source": [
    "## Task 3. Probability theory (1 point)"
   ]
  },
  {
   "cell_type": "markdown",
   "metadata": {},
   "source": [
    "To solve the following exercises we recommend to read the first 5 chapters on Probability theory from MathWiki web-site: http://mathwiki.cs.ut.ee/probability_theory\n",
    "(1. Event and probability; 2. Probability of two events; 3. Conditional probability; 4. Total probability and 5. Expected value). We also recommend that you solve all the exercises given in MathWiki site for training purposes."
   ]
  },
  {
   "cell_type": "markdown",
   "metadata": {},
   "source": [
    "<font color='red'>**When answering the following questions don't only write the answer, but also the way to the solution. Also express the answer as a probability (e.g. $P(accept=good)$) in addition to showing the value of the probability.**</font>"
   ]
  },
  {
   "cell_type": "markdown",
   "metadata": {},
   "source": [
    "*The dataset below includes data about car evaluation (attribute \"accept\") based on six input attributes.*"
   ]
  },
  {
   "cell_type": "markdown",
   "metadata": {},
   "source": [
    "<img src=\"minicars.png\" alt=\"Dataset\" style=\"width: 500px;\"/>"
   ]
  },
  {
   "cell_type": "markdown",
   "metadata": {},
   "source": [
    "#### <font color='purple'>(a) Given the data above, find the probability of a randomly selected car to be evaluated as “good”. Please explain how you got the answer."
   ]
  },
  {
   "cell_type": "markdown",
   "metadata": {},
   "source": [
    "Answer: $$P(accept=good) = 1 / 10 $$ Explanation: ..."
   ]
  },
  {
   "cell_type": "markdown",
   "metadata": {},
   "source": [
    "#### <font color='purple'>(b) If we evaluate 2 independently selected random cars (it could be the same car twice), what is the probability of both of them evaluated as “good”. Please explain how you got the answer.</font>"
   ]
  },
  {
   "cell_type": "markdown",
   "metadata": {},
   "source": [
    "Answer: $$P(accept_1=good,accept_2=good) = 1/100$$\n",
    "\n",
    "Explanation: ..."
   ]
  },
  {
   "cell_type": "markdown",
   "metadata": {},
   "source": [
    "#### <font color='purple'>(c) Find the probability that a randomly selected car is evaluated either “good” or very good (“vgood”). Please explain how you got the answer."
   ]
  },
  {
   "cell_type": "markdown",
   "metadata": {},
   "source": [
    "Answer: 3 / 10\n",
    "\n",
    "Explanation: ..."
   ]
  },
  {
   "cell_type": "markdown",
   "metadata": {},
   "source": [
    "#### <font color='purple'>(d) What is the probability of a randomly selected car to be evaluated as unacceptable (“unacc”) given that it can accommodate 2 persons. Please explain how you got the answer.</font>"
   ]
  },
  {
   "cell_type": "markdown",
   "metadata": {},
   "source": [
    "Answer: 1\n",
    "\n",
    "Explanation: ..."
   ]
  },
  {
   "cell_type": "markdown",
   "metadata": {},
   "source": [
    "#### <font color='purple'>(e) Are the events `doors<4` and `accept=acc` independent? Please explain how you got the answer.</font>"
   ]
  },
  {
   "cell_type": "markdown",
   "metadata": {},
   "source": [
    "Answer: No\n",
    "\n",
    "Explanation: ..."
   ]
  },
  {
   "cell_type": "markdown",
   "metadata": {},
   "source": [
    "#### <font color='purple'>(f) Express the following probability using the Bayes' rule.</font>"
   ]
  },
  {
   "cell_type": "markdown",
   "metadata": {},
   "source": [
    "Answer: $$P(accept=vgood\\;|\\; buying=med,\\; maint=med) = ...$$"
   ]
  },
  {
   "cell_type": "markdown",
   "metadata": {},
   "source": [
    "##  Task 4. Naive Bayes (2 points)"
   ]
  },
  {
   "cell_type": "markdown",
   "metadata": {},
   "source": [
    "In this exercise you will program your own Naive Bayes algorithm and compare it to sklearn's BernoulliNB implementation. We will use **car.csv** dataset for this."
   ]
  },
  {
   "cell_type": "code",
   "execution_count": 9,
   "metadata": {},
   "outputs": [],
   "source": [
    "from sklearn.model_selection import train_test_split\n",
    "from sklearn.naive_bayes import BernoulliNB"
   ]
  },
  {
   "cell_type": "code",
   "execution_count": 10,
   "metadata": {},
   "outputs": [],
   "source": [
    "data = pd.read_csv(\"car.csv\", dtype=\"category\", header = None)\n",
    "data.columns = [\"buying\", \"maint\", \"doors\", \"persons\", \"lug-boot\", \"safety\", \"accept\"]"
   ]
  },
  {
   "cell_type": "code",
   "execution_count": 11,
   "metadata": {},
   "outputs": [
    {
     "name": "stdout",
     "output_type": "stream",
     "text": [
      "(1728, 7)\n"
     ]
    },
    {
     "data": {
      "text/html": [
       "<div>\n",
       "<style scoped>\n",
       "    .dataframe tbody tr th:only-of-type {\n",
       "        vertical-align: middle;\n",
       "    }\n",
       "\n",
       "    .dataframe tbody tr th {\n",
       "        vertical-align: top;\n",
       "    }\n",
       "\n",
       "    .dataframe thead th {\n",
       "        text-align: right;\n",
       "    }\n",
       "</style>\n",
       "<table border=\"1\" class=\"dataframe\">\n",
       "  <thead>\n",
       "    <tr style=\"text-align: right;\">\n",
       "      <th></th>\n",
       "      <th>buying</th>\n",
       "      <th>maint</th>\n",
       "      <th>doors</th>\n",
       "      <th>persons</th>\n",
       "      <th>lug-boot</th>\n",
       "      <th>safety</th>\n",
       "      <th>accept</th>\n",
       "    </tr>\n",
       "  </thead>\n",
       "  <tbody>\n",
       "    <tr>\n",
       "      <th>0</th>\n",
       "      <td>vhigh</td>\n",
       "      <td>vhigh</td>\n",
       "      <td>2</td>\n",
       "      <td>2</td>\n",
       "      <td>small</td>\n",
       "      <td>low</td>\n",
       "      <td>unacc</td>\n",
       "    </tr>\n",
       "    <tr>\n",
       "      <th>1</th>\n",
       "      <td>vhigh</td>\n",
       "      <td>vhigh</td>\n",
       "      <td>2</td>\n",
       "      <td>2</td>\n",
       "      <td>small</td>\n",
       "      <td>med</td>\n",
       "      <td>unacc</td>\n",
       "    </tr>\n",
       "    <tr>\n",
       "      <th>2</th>\n",
       "      <td>vhigh</td>\n",
       "      <td>vhigh</td>\n",
       "      <td>2</td>\n",
       "      <td>2</td>\n",
       "      <td>small</td>\n",
       "      <td>high</td>\n",
       "      <td>unacc</td>\n",
       "    </tr>\n",
       "    <tr>\n",
       "      <th>3</th>\n",
       "      <td>vhigh</td>\n",
       "      <td>vhigh</td>\n",
       "      <td>2</td>\n",
       "      <td>2</td>\n",
       "      <td>med</td>\n",
       "      <td>low</td>\n",
       "      <td>unacc</td>\n",
       "    </tr>\n",
       "    <tr>\n",
       "      <th>4</th>\n",
       "      <td>vhigh</td>\n",
       "      <td>vhigh</td>\n",
       "      <td>2</td>\n",
       "      <td>2</td>\n",
       "      <td>med</td>\n",
       "      <td>med</td>\n",
       "      <td>unacc</td>\n",
       "    </tr>\n",
       "  </tbody>\n",
       "</table>\n",
       "</div>"
      ],
      "text/plain": [
       "  buying  maint doors persons lug-boot safety accept\n",
       "0  vhigh  vhigh     2       2    small    low  unacc\n",
       "1  vhigh  vhigh     2       2    small    med  unacc\n",
       "2  vhigh  vhigh     2       2    small   high  unacc\n",
       "3  vhigh  vhigh     2       2      med    low  unacc\n",
       "4  vhigh  vhigh     2       2      med    med  unacc"
      ]
     },
     "execution_count": 11,
     "metadata": {},
     "output_type": "execute_result"
    }
   ],
   "source": [
    "print(data.shape)\n",
    "data.head()"
   ]
  },
  {
   "cell_type": "markdown",
   "metadata": {},
   "source": [
    "#### <font color='purple'>(a) Use the train_test_split method to divide the data into 75% training and 25% testing data. Use parameter random_state = 0 to set the same random seed and ensure that we all get the same results.</font>"
   ]
  },
  {
   "cell_type": "code",
   "execution_count": 12,
   "metadata": {},
   "outputs": [
    {
     "data": {
      "text/plain": [
       "((1296, 6), (432, 6), (1296,), (432,))"
      ]
     },
     "execution_count": 12,
     "metadata": {},
     "output_type": "execute_result"
    }
   ],
   "source": [
    "# YOUR CODE STARTS\n",
    "X_train, X_test, y_train, y_test = train_test_split(data.drop('accept', axis = 1), data['accept'])\n",
    "# YOUR CODE ENDS\n",
    "\n",
    "# This is for us to check that the resulting datasets have the correct shapes\n",
    "X_train.shape, X_test.shape, y_train.shape, y_test.shape"
   ]
  },
  {
   "cell_type": "markdown",
   "metadata": {},
   "source": [
    "#### <font color='purple'>(b) Now implement your own Naive Bayes method. We have prepared a class MyNaiveBayes where you can fill in the methods. Don't worry about the implementation speed at the moment, although, if you are experienced with Python you can try to come up with an implementation that would also be efficient. Feel free to add methods or change the existing ones, but make sure that the functions **fit** and **predict** will still be in the class with exactly the same signatures. They will be used below to test your implementation.</font>"
   ]
  },
  {
   "cell_type": "code",
   "execution_count": 48,
   "metadata": {},
   "outputs": [],
   "source": [
    "class MyNaiveBayes:\n",
    "    \n",
    "    def fit(self, data, labels):\n",
    "        # use this method to learn the model\n",
    "        # if you feel it is easier to calculate priors and likelihoods at the same time\n",
    "        # then feel free to change this method\n",
    "        self.labels = labels.unique()\n",
    "        self.priors = self.calculate_priors(labels)\n",
    "        self.likelihoods = self.calculate_likelihoods(data, labels)\n",
    "        \n",
    "    def predict(self, data):\n",
    "        # YOUR CODE STARTS\n",
    "        m = data.apply(lambda x: self.predict_sample(x), axis = 1)\n",
    "        return m\n",
    "        # YOUR CODE ENDS\n",
    "        \n",
    "    def predict_sample(self, sample):\n",
    "        likelihood = {}\n",
    "        for label in self.labels:\n",
    "            likelihood[label] = [self.likelihoods[key][sample[key]][label] if label in self.likelihoods[key][sample[key]].keys() else 0 for key in sample.keys()]\n",
    "            likelihood[label] = np.prod(likelihood[label]) * self.priors[label]\n",
    "        return max(likelihood, key=likelihood.get)\n",
    "        \n",
    "    def calculate_priors(self, train_labels):\n",
    "        # YOUR CODE STARTS\n",
    "        return train_labels.value_counts() / len(train_labels)\n",
    "        # YOUR CODE ENDS\n",
    "\n",
    "    def calculate_likelihoods(self, train_data, train_labels):\n",
    "        # YOUR CODE STARTS\n",
    "        train_data['label'] = train_labels\n",
    "        likelihoods = {}\n",
    "        for feature in train_data.columns:\n",
    "            likelihoods[feature] = train_data.groupby([feature, 'label'])['label'].count() / train_data.groupby(['label'])['label'].count()\n",
    "        return likelihoods\n",
    "        # YOUR CODE ENDS"
   ]
  },
  {
   "cell_type": "markdown",
   "metadata": {},
   "source": [
    "#### <font color='purple'>(c) Call out your method and calculate the train and test accuracies.</font>"
   ]
  },
  {
   "cell_type": "code",
   "execution_count": 52,
   "metadata": {},
   "outputs": [
    {
     "name": "stdout",
     "output_type": "stream",
     "text": [
      "init 0.03281211853027344\n",
      "pred 40.73312973976135\n",
      "pred 12.493787050247192\n"
     ]
    }
   ],
   "source": [
    "my_nb = MyNaiveBayes()\n",
    "my_nb.fit(X_train, y_train)\n",
    "preds_train = my_nb.predict(X_train)\n",
    "preds_test = my_nb.predict(X_test)"
   ]
  },
  {
   "cell_type": "code",
   "execution_count": 53,
   "metadata": {},
   "outputs": [
    {
     "name": "stdout",
     "output_type": "stream",
     "text": [
      "372\n",
      "Train accuracy:  1.0\n",
      "Test accuracy:  0.8611111111111112\n"
     ]
    }
   ],
   "source": [
    "print(sum(preds_test == y_test))\n",
    "# YOUR CODE STARTS\n",
    "train_accuracy = sum(preds_train == y_train) / len(y_train)\n",
    "test_accuracy = sum(preds_test == y_test) / len(y_test)\n",
    "# YOUR CODE ENDS\n",
    "print(\"Train accuracy: \", train_accuracy)\n",
    "print(\"Test accuracy: \", test_accuracy)"
   ]
  },
  {
   "cell_type": "markdown",
   "metadata": {},
   "source": [
    "#### <font color='purple'>(d) Use `BernoulliNB` of `sklearn` and calculate its train and test accuracies. Remember that you cannot feed in the dataset with categorical features to sklearn models. You have to do a transformation first (consult the tutorial if you don't remember).</font>"
   ]
  },
  {
   "cell_type": "code",
   "execution_count": null,
   "metadata": {},
   "outputs": [],
   "source": [
    "nb = BernoulliNB()\n",
    "# YOUR CODE STARTS\n",
    "nb.fit(...)\n",
    "preds_train = nb.predict(...)\n",
    "preds_test = nb.predict(...)\n",
    "train_accuracy = ...\n",
    "test_accuracy = ...\n",
    "# YOUR CODE ENDS\n",
    "print(\"Train accuracy: \", train_accuracy)\n",
    "print(\"Test accuracy: \", test_accuracy)"
   ]
  },
  {
   "cell_type": "markdown",
   "metadata": {},
   "source": [
    "#### <font color='purple'>(e) Accuracies achieved by your implementation and BernoulliNB can be slightly different. Try to read the description of `BernoulliNB` from `sklearn` documentation and try to guess what might be the reasons.</font>"
   ]
  },
  {
   "cell_type": "markdown",
   "metadata": {},
   "source": [
    "Answer: ..."
   ]
  },
  {
   "cell_type": "markdown",
   "metadata": {},
   "source": [
    "## Task 5. Comparison of different supervised learning methods (1 point)"
   ]
  },
  {
   "cell_type": "markdown",
   "metadata": {},
   "source": [
    "In this task you will compare the performance of `sklearn` implementations of studied methods ([perceptron](http://scikit-learn.org/stable/modules/generated/sklearn.linear_model.Perceptron.html), [Naive Bayes](http://scikit-learn.org/stable/modules/naive_bayes.html) and [KNN](http://scikit-learn.org/stable/modules/neighbors.html)) for different types of datasets (separable, overlapped, hammer)."
   ]
  },
  {
   "cell_type": "markdown",
   "metadata": {},
   "source": [
    "Below you can find helper functions that we wrote for you and one example."
   ]
  },
  {
   "cell_type": "code",
   "execution_count": null,
   "metadata": {
    "collapsed": true
   },
   "outputs": [],
   "source": [
    "def make_gaussian_data(n_samples,pos_mean,pos_covariance_diag,neg_mean,neg_covariance_diag,random_state=0):\n",
    "    seed(random_state)\n",
    "    n_pos = round(n_samples/2)\n",
    "    n_neg = n_samples - n_pos\n",
    "    pos = multivariate_normal(pos_mean,np.array(pos_covariance_diag)*np.identity(2),n_pos)\n",
    "    neg = multivariate_normal(neg_mean,np.array(neg_covariance_diag)*np.identity(2),n_neg)\n",
    "    df_train = pd.DataFrame(pos).append(pd.DataFrame(neg))\n",
    "    df_train.columns = ('x','y')\n",
    "    df_train['c'] = n_pos*['pos'] + n_neg*['neg']\n",
    "    df_train.c = df_train.c.astype('category')\n",
    "    X_train = df_train.drop('c',axis=1)\n",
    "    y_train = df_train.c\n",
    "    return X_train,y_train\n",
    "\n",
    "def make_gaussian_train_test(n_train,n_test,pos_mean,pos_covariance_diag,neg_mean,neg_covariance_diag,random_state=0):\n",
    "    return make_gaussian_data(n_train,pos_mean,pos_covariance_diag,neg_mean,neg_covariance_diag,random_state=random_state) + \\\n",
    "        make_gaussian_data(n_test,pos_mean,pos_covariance_diag,neg_mean,neg_covariance_diag,random_state=random_state+1)"
   ]
  },
  {
   "cell_type": "code",
   "execution_count": null,
   "metadata": {
    "collapsed": true
   },
   "outputs": [],
   "source": [
    "def make_round_blobs(n_train=100,n_test=1000,separation=2,random_state=0):\n",
    "    return make_gaussian_train_test(n_train,n_test,(-separation/2.0,0),(1,1),(+separation/2.0,0),(1,1),random_state=random_state)\n",
    "  \n",
    "def make_hammer(n_train=100,n_test=1000,random_state=0):\n",
    "    return make_gaussian_train_test(n_train,n_test,(+2,+2),(1,4),(-8,0),(20,1),random_state=random_state)"
   ]
  },
  {
   "cell_type": "code",
   "execution_count": null,
   "metadata": {
    "collapsed": true
   },
   "outputs": [],
   "source": [
    "all_datasets = {\n",
    "    'round_overlap': make_round_blobs(separation=2),\n",
    "    'round_separable': make_round_blobs(separation=4),\n",
    "    'hammer': make_hammer(random_state=2),\n",
    "    'round_overlap_20': make_round_blobs(n_train=20,separation=2),\n",
    "    'round_overlap_50': make_round_blobs(n_train=50,separation=2),\n",
    "    'round_overlap_100': make_round_blobs(n_train=100,separation=2),\n",
    "    'round_overlap_200': make_round_blobs(n_train=200,separation=2),\n",
    "    'round_overlap_500': make_round_blobs(n_train=500,separation=2),\n",
    "    'round_overlap_1000': make_round_blobs(n_train=1000,separation=2),\n",
    "}"
   ]
  },
  {
   "cell_type": "code",
   "execution_count": null,
   "metadata": {
    "collapsed": true
   },
   "outputs": [],
   "source": [
    "all_classifiers = {\n",
    "    'most_frequent_class': DummyClassifier(strategy='most_frequent'),\n",
    "    'uniform_random': DummyClassifier(strategy='uniform',random_state=0),\n",
    "    'knn1': KNeighborsClassifier(n_neighbors=1),\n",
    "    'knn3': KNeighborsClassifier(n_neighbors=3),\n",
    "    'knn5': KNeighborsClassifier(n_neighbors=5),\n",
    "    'knn7': KNeighborsClassifier(n_neighbors=7),\n",
    "    'knn9': KNeighborsClassifier(n_neighbors=9),\n",
    "    'knn25': KNeighborsClassifier(n_neighbors=25),\n",
    "    'knn75': KNeighborsClassifier(n_neighbors=75),\n",
    "    'naive_bayes': GaussianNB(),\n",
    "    'perceptron': Perceptron()\n",
    "}"
   ]
  },
  {
   "cell_type": "code",
   "execution_count": null,
   "metadata": {
    "collapsed": true
   },
   "outputs": [],
   "source": [
    "def create_grid(X_train):\n",
    "    x = np.arange(min(X_train.x),max(X_train.x), (max(X_train.x)-min(X_train.x))/100 )\n",
    "    y = np.arange(min(X_train.y),max(X_train.y), (max(X_train.y)-min(X_train.y))/100 )\n",
    "    xx, yy = np.meshgrid(x, y)\n",
    "    X_grid = pd.DataFrame({'x':xx.flatten(),'y':yy.flatten()})\n",
    "    return X_grid\n",
    "\n",
    "def plot_model(ax,X_train,y_train,X_grid,model):\n",
    "    y_pred = model.predict(X_grid)\n",
    "    X_grid[y_pred=='pos'].plot(x='x',y='y',kind='scatter',s=20,color='red',ax=ax)\n",
    "    X_grid[y_pred=='neg'].plot(x='x',y='y',kind='scatter',s=20,color='blue',ax=ax)\n",
    "    X_train[y_train=='pos'].plot(x='x',y='y',kind='scatter',s=40,color='pink',ax=ax)\n",
    "    X_train[y_train=='neg'].plot(x='x',y='y',kind='scatter',s=40,color='lightblue',ax=ax);\n",
    "    \n",
    "def plot_models_datasets(model_names,dataset_names,datasets_in_rows=False,plot_width=5,plot_height=5):\n",
    "    n_row = len(model_names)\n",
    "    n_col = len(dataset_names)\n",
    "    if datasets_in_rows: # if datasets should be in rows not columns then swap the rows and columns\n",
    "        n_row,n_col = n_col,n_row \n",
    "    fig, axes = plt.subplots(n_row,n_col,figsize=(n_col*plot_width,n_row*plot_height))\n",
    "    for row in range(n_row):\n",
    "        for col in range(n_col):\n",
    "            if datasets_in_rows: # depending on whether datasets should be in rows or columns\n",
    "                dataset_name = dataset_names[row]\n",
    "                model_name = model_names[col]\n",
    "            else:\n",
    "                dataset_name = dataset_names[col]\n",
    "                model_name = model_names[row]\n",
    "            X_train,y_train,X_test,y_test = all_datasets[dataset_name]\n",
    "            X_grid = create_grid(X_test) # create the grid of instances to show decision regions\n",
    "            model = all_classifiers[model_name].fit(X_train,y_train)\n",
    "            y_pred = model.predict(X_test)\n",
    "            accuracy = sum(y_pred==y_test)/len(y_test)\n",
    "            if (n_row==1) and (n_col==1): # support for plots with only 1 plot\n",
    "                ax = axes\n",
    "            elif n_col==1: # support for plots with only 1 column\n",
    "                ax = axes[row]\n",
    "            elif n_row==1: # support for plots with only 1 row\n",
    "                ax = axes[col]\n",
    "            else:\n",
    "                ax = axes[row,col]\n",
    "            ax.set_aspect(aspect='equal') # make sure the x and y scales have equal aspect\n",
    "            ax.set_title(dataset_name+' : ' + model_name + ' : test_acc=' + str(accuracy))\n",
    "            plot_model(ax,X_train,y_train,X_grid,model);\n",
    "    plt.show()"
   ]
  },
  {
   "cell_type": "markdown",
   "metadata": {},
   "source": [
    "Have a look at the code defining all_datasets and all_classifiers. These are the datasets and classifiers that you will analyze in the following tasks. To answer the following questions you can plot the decision boundaries of classifiers on these datasets as follows:"
   ]
  },
  {
   "cell_type": "code",
   "execution_count": null,
   "metadata": {},
   "outputs": [],
   "source": [
    "plot_models_datasets(model_names=['knn1','knn3'], \n",
    "                     dataset_names=['round_overlap','round_separable'],\n",
    "                     datasets_in_rows=True, plot_width=10, plot_height=5)"
   ]
  },
  {
   "cell_type": "markdown",
   "metadata": {},
   "source": [
    "The function plot_models_datasets takes a list of classifier names, a list of datasets, a boolean stating whether you want to have datasets in rows or columns, and two numbers stating the width and height of one plot. Note that the sizes are rescaled automatically to make sure that aspect ratio is preserved."
   ]
  },
  {
   "cell_type": "markdown",
   "metadata": {},
   "source": [
    "The circles on these plots represent training data points (positives shown in pink and negatives in light blue). Accuracy on test data is given in the caption of each plot but the test data are not shown. The background colours indicate the decision regions of the classifier. The red background corresponds to the region where the classifier predicts positive, and blue where it predicts negative."
   ]
  },
  {
   "cell_type": "markdown",
   "metadata": {},
   "source": [
    "The datasets round_overlap, round_separable and hammer all have 100 training instances with 50 in both classes. In datasets round_overlap_20, ..., round_overlap_1000 the number indicates the size of the training set. "
   ]
  },
  {
   "cell_type": "markdown",
   "metadata": {},
   "source": [
    "### K-nearest neighbours"
   ]
  },
  {
   "cell_type": "markdown",
   "metadata": {},
   "source": [
    "Study the behaviour and accuracy of KNN across different values of K and different datasets.\n",
    "#### <font color='purple'>(a) On which of the datasets round_overlap, round_separable and hammer is K=1 performing good or bad (compared to other values of K)? Explain why (in 1 paragraph).</font>"
   ]
  },
  {
   "cell_type": "code",
   "execution_count": null,
   "metadata": {
    "collapsed": true
   },
   "outputs": [],
   "source": [
    "# YOUR CODE STARTS\n",
    "...\n",
    "# YOUR CODE ENDS"
   ]
  },
  {
   "cell_type": "markdown",
   "metadata": {},
   "source": [
    "Answer: ..."
   ]
  },
  {
   "cell_type": "markdown",
   "metadata": {},
   "source": [
    "#### <font color='purple'>(b) On which of the datasets round_overlap, round_separable and hammer is K=75 performing good or bad (compared to other values of K)? Explain why (in 1 paragraph).</font>"
   ]
  },
  {
   "cell_type": "code",
   "execution_count": null,
   "metadata": {
    "collapsed": true
   },
   "outputs": [],
   "source": [
    "# YOUR CODE STARTS\n",
    "...\n",
    "# YOUR CODE ENDS"
   ]
  },
  {
   "cell_type": "markdown",
   "metadata": {},
   "source": [
    "Answer: ..."
   ]
  },
  {
   "cell_type": "markdown",
   "metadata": {},
   "source": [
    "#### <font color='purple'>(c) What are the best-performing values of K for datasets round_overlap, round_separable and hammer? Explain why (in 1 paragraph).</font>"
   ]
  },
  {
   "cell_type": "code",
   "execution_count": null,
   "metadata": {
    "collapsed": true
   },
   "outputs": [],
   "source": [
    "# YOUR CODE STARTS\n",
    "...\n",
    "# YOUR CODE ENDS"
   ]
  },
  {
   "cell_type": "markdown",
   "metadata": {},
   "source": [
    "Answer: ..."
   ]
  },
  {
   "cell_type": "markdown",
   "metadata": {},
   "source": [
    "#### <font color='purple'>(d) How does KNN performance change when changing the size of the training set? Study this on the datasets *round_overlap_20, _50, _100, _200, _500, _1000* and with K=3, K=9. Explain why (in 1 paragraph).</font>"
   ]
  },
  {
   "cell_type": "code",
   "execution_count": null,
   "metadata": {
    "collapsed": true
   },
   "outputs": [],
   "source": [
    "# YOUR CODE STARTS\n",
    "...\n",
    "# YOUR CODE ENDS"
   ]
  },
  {
   "cell_type": "markdown",
   "metadata": {},
   "source": [
    "Answer: ..."
   ]
  },
  {
   "cell_type": "markdown",
   "metadata": {},
   "source": [
    "### Comparison of many methods"
   ]
  },
  {
   "cell_type": "markdown",
   "metadata": {},
   "source": [
    "Study the performance of various methods and come up with instructions for yourself on how you would choose the first learning algorithm to try on a future dataset (before running any code).\n",
    "#### <font color='purple'>(e) Compare the performance of Naive Bayes against Perceptron. On which datasets (round_overlap, round_separable and hammer) does Naive Bayes perform better, worse, comparably to Perceptron? Explain why (in 1 paragraph).</font>"
   ]
  },
  {
   "cell_type": "code",
   "execution_count": null,
   "metadata": {
    "collapsed": true
   },
   "outputs": [],
   "source": [
    "# YOUR CODE STARTS\n",
    "...\n",
    "# YOUR CODE ENDS"
   ]
  },
  {
   "cell_type": "markdown",
   "metadata": {},
   "source": [
    "Answer: ..."
   ]
  },
  {
   "cell_type": "markdown",
   "metadata": {},
   "source": [
    "#### <font color='purple'>(f) Compare the performance of Naive Bayes against KNN. On which datasets (round_overlap, round_separable and hammer) does Naive Bayes perform better, worse, comparably to Perceptron? Explain why (in 1 paragraph). </font>"
   ]
  },
  {
   "cell_type": "code",
   "execution_count": null,
   "metadata": {
    "collapsed": true
   },
   "outputs": [],
   "source": [
    "# YOUR CODE STARTS\n",
    "...\n",
    "# YOUR CODE ENDS"
   ]
  },
  {
   "cell_type": "markdown",
   "metadata": {},
   "source": [
    "Answer: ..."
   ]
  }
 ],
 "metadata": {
  "kernelspec": {
   "display_name": "Python 3",
   "language": "python",
   "name": "python3"
  },
  "language_info": {
   "codemirror_mode": {
    "name": "ipython",
    "version": 3
   },
   "file_extension": ".py",
   "mimetype": "text/x-python",
   "name": "python",
   "nbconvert_exporter": "python",
   "pygments_lexer": "ipython3",
   "version": "3.6.7"
  }
 },
 "nbformat": 4,
 "nbformat_minor": 2
}
