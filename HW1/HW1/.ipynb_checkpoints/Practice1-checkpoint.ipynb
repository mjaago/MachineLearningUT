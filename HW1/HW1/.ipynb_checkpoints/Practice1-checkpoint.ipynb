{
 "cells": [
  {
   "cell_type": "markdown",
   "metadata": {},
   "source": [
    "# Practice 1\n",
    "### MTAT.03.227 Machine learning course \n",
    "### 10.09.2018"
   ]
  },
  {
   "cell_type": "markdown",
   "metadata": {},
   "source": [
    "Today we will solve an eternal problem of cats and dogs classification using simple linear methods."
   ]
  },
  {
   "cell_type": "code",
   "execution_count": 6,
   "metadata": {
    "collapsed": true
   },
   "outputs": [],
   "source": [
    "import pandas as pd\n",
    "import numpy as np\n",
    "from matplotlib import pyplot as plt"
   ]
  },
  {
   "cell_type": "markdown",
   "metadata": {},
   "source": [
    "Optional styling:"
   ]
  },
  {
   "cell_type": "code",
   "execution_count": null,
   "metadata": {
    "collapsed": true
   },
   "outputs": [],
   "source": [
    "plt.style.use('seaborn-whitegrid') # Plot style\n",
    "import seaborn as sns"
   ]
  },
  {
   "cell_type": "markdown",
   "metadata": {},
   "source": [
    "## Dataset"
   ]
  },
  {
   "cell_type": "markdown",
   "metadata": {},
   "source": [
    "Define the dataset about cats and dogs and take a look at it"
   ]
  },
  {
   "cell_type": "code",
   "execution_count": 62,
   "metadata": {},
   "outputs": [
    {
     "data": {
      "text/html": [
       "<div>\n",
       "<style scoped>\n",
       "    .dataframe tbody tr th:only-of-type {\n",
       "        vertical-align: middle;\n",
       "    }\n",
       "\n",
       "    .dataframe tbody tr th {\n",
       "        vertical-align: top;\n",
       "    }\n",
       "\n",
       "    .dataframe thead th {\n",
       "        text-align: right;\n",
       "    }\n",
       "</style>\n",
       "<table border=\"1\" class=\"dataframe\">\n",
       "  <thead>\n",
       "    <tr style=\"text-align: right;\">\n",
       "      <th></th>\n",
       "      <th>mass</th>\n",
       "      <th>height</th>\n",
       "      <th>label</th>\n",
       "    </tr>\n",
       "  </thead>\n",
       "  <tbody>\n",
       "    <tr>\n",
       "      <th>0</th>\n",
       "      <td>4</td>\n",
       "      <td>2</td>\n",
       "      <td>cat</td>\n",
       "    </tr>\n",
       "    <tr>\n",
       "      <th>1</th>\n",
       "      <td>5</td>\n",
       "      <td>1</td>\n",
       "      <td>cat</td>\n",
       "    </tr>\n",
       "    <tr>\n",
       "      <th>2</th>\n",
       "      <td>5</td>\n",
       "      <td>2</td>\n",
       "      <td>cat</td>\n",
       "    </tr>\n",
       "    <tr>\n",
       "      <th>3</th>\n",
       "      <td>5</td>\n",
       "      <td>3</td>\n",
       "      <td>cat</td>\n",
       "    </tr>\n",
       "    <tr>\n",
       "      <th>4</th>\n",
       "      <td>6</td>\n",
       "      <td>2</td>\n",
       "      <td>cat</td>\n",
       "    </tr>\n",
       "    <tr>\n",
       "      <th>5</th>\n",
       "      <td>7</td>\n",
       "      <td>4</td>\n",
       "      <td>dog</td>\n",
       "    </tr>\n",
       "    <tr>\n",
       "      <th>6</th>\n",
       "      <td>11</td>\n",
       "      <td>8</td>\n",
       "      <td>dog</td>\n",
       "    </tr>\n",
       "    <tr>\n",
       "      <th>7</th>\n",
       "      <td>11</td>\n",
       "      <td>10</td>\n",
       "      <td>dog</td>\n",
       "    </tr>\n",
       "    <tr>\n",
       "      <th>8</th>\n",
       "      <td>13</td>\n",
       "      <td>8</td>\n",
       "      <td>dog</td>\n",
       "    </tr>\n",
       "    <tr>\n",
       "      <th>9</th>\n",
       "      <td>13</td>\n",
       "      <td>10</td>\n",
       "      <td>dog</td>\n",
       "    </tr>\n",
       "  </tbody>\n",
       "</table>\n",
       "</div>"
      ],
      "text/plain": [
       "   mass  height label\n",
       "0     4       2   cat\n",
       "1     5       1   cat\n",
       "2     5       2   cat\n",
       "3     5       3   cat\n",
       "4     6       2   cat\n",
       "5     7       4   dog\n",
       "6    11       8   dog\n",
       "7    11      10   dog\n",
       "8    13       8   dog\n",
       "9    13      10   dog"
      ]
     },
     "execution_count": 62,
     "metadata": {},
     "output_type": "execute_result"
    }
   ],
   "source": [
    "data = pd.DataFrame({\n",
    "    'mass':   [4, 5, 5, 5, 6, 7, 11, 11, 13, 13], # in kittygrams \n",
    "    'height': [2, 1, 2, 3, 2, 4, 8,  10, 8,  10], # in doggometers\n",
    "    'label':  ['cat']*5 + ['dog']*5\n",
    "}, \n",
    "    columns = ['mass', 'height', 'label'] # mantains column order\n",
    ")\n",
    "data"
   ]
  },
  {
   "cell_type": "markdown",
   "metadata": {},
   "source": [
    "### Plots"
   ]
  },
  {
   "cell_type": "markdown",
   "metadata": {},
   "source": [
    "It is always useful to plot your data. We will mainly use `matplotlib` for that purpose. \n",
    "\n",
    "We will plot the same data again during this session and it is a good practice to wrap up this piece of code into a function"
   ]
  },
  {
   "cell_type": "code",
   "execution_count": 75,
   "metadata": {},
   "outputs": [
    {
     "data": {
      "image/png": "[encoded data removed]",
      "text/plain": [
       "<matplotlib.figure.Figure at 0x289fed7a4a8>"
      ]
     },
     "metadata": {},
     "output_type": "display_data"
    }
   ],
   "source": [
    "def plot_cats_vs_dogs(data):\n",
    "    # Specify figure parameters\n",
    "    fig = plt.figure(figsize=(7, 5.5)) \n",
    "    # Data to plot\n",
    "    plt.plot(data.loc[data.label == 'cat', 'mass'], data.loc[data.label == 'cat', 'height'], 'bo', label='cats') \n",
    "    plt.plot(data.loc[data.label == 'dog', 'mass'], data.loc[data.label == 'dog', 'height'], 'ro', label='dogs')\n",
    "\n",
    "    # Specify legend\n",
    "    plt.legend(markerscale=1)\n",
    "\n",
    "    # Specify axes parameters\n",
    "    plt.xticks(list(range(0, 15)))\n",
    "    plt.yticks(list(range(1, 12)))\n",
    "    plt.xlim(0, 14)\n",
    "    plt.ylim(0, 11)\n",
    "\n",
    "    # Axis labels\n",
    "    plt.xlabel('Mass')\n",
    "    plt.ylabel('Height')\n",
    "\n",
    "# Show the plot inline\n",
    "plot_cats_vs_dogs(data)\n",
    "plt.show()"
   ]
  },
  {
   "cell_type": "markdown",
   "metadata": {},
   "source": [
    "Or you could also use `seaborn` library if you like, it could be useful for bigger datasets and has many pre-implemented types of plots"
   ]
  },
  {
   "cell_type": "code",
   "execution_count": 65,
   "metadata": {},
   "outputs": [
    {
     "data": {
      "image/png": "[encoded data removed]",
      "text/plain": [
       "<matplotlib.figure.Figure at 0x289fea766d8>"
      ]
     },
     "metadata": {},
     "output_type": "display_data"
    }
   ],
   "source": [
    "sns.lmplot(data=data,     # set datafrafe\n",
    "           x='mass',      # set column used for x\n",
    "           y='height',    # and y\n",
    "           hue='label',   # specify color\n",
    "           fit_reg=False, # don't fit any regression\n",
    "           aspect=1.273\n",
    ")\n",
    "plt.xlim(0, 14)\n",
    "plt.ylim(0, 11)\n",
    "plt.show()"
   ]
  },
  {
   "cell_type": "markdown",
   "metadata": {},
   "source": [
    "**Questions:**\n",
    "1. What you can already say from this plot? Are the data linearly separable?\n",
    "2. Can we use only one feature (mass or weight) to separate the data?"
   ]
  },
  {
   "cell_type": "markdown",
   "metadata": {},
   "source": [
    "**Important!** In your homeworks please provide clean plots with sufficient descriptions"
   ]
  },
  {
   "cell_type": "markdown",
   "metadata": {},
   "source": [
    "## Simple linear classifier"
   ]
  },
  {
   "cell_type": "markdown",
   "metadata": {},
   "source": [
    "We can draw a separation line using mean height and mass of dogs and cats"
   ]
  },
  {
   "cell_type": "code",
   "execution_count": 150,
   "metadata": {},
   "outputs": [
    {
     "name": "stdout",
     "output_type": "stream",
     "text": [
      "The average cat weighs 5.0 kittygrams and 2.0 doggometers tall\n",
      "The average dog weighs 11.0 kittygrams and 8.0 doggometers tall\n",
      "The separation plane goes through 8.0 kittygrams and 5.0 doggometers\n"
     ]
    },
    {
     "data": {
      "image/png": "[encoded data removed]",
      "text/plain": [
       "<matplotlib.figure.Figure at 0x289ffed2710>"
      ]
     },
     "metadata": {},
     "output_type": "display_data"
    }
   ],
   "source": [
    "avg_cat = (np.mean(data.loc[data.label == 'cat', 'mass']), np.mean(data.loc[data.label == 'cat', 'height']))\n",
    "avg_dog = (np.mean(data.loc[data.label == 'dog', 'mass']), np.mean(data.loc[data.label == 'dog', 'height']))\n",
    "avg_pt = np.mean([avg_cat, avg_dog], axis=0)\n",
    "\n",
    "print('The average cat weighs {} kittygrams and {} doggometers tall'.format(*avg_cat))\n",
    "print('The average dog weighs {} kittygrams and {} doggometers tall'.format(*avg_dog))\n",
    "print('The separation plane goes through {} kittygrams and {} doggometers'.format(*avg_pt))\n",
    "\n",
    "\n",
    "# Re-use our plot\n",
    "plot_cats_vs_dogs(data)\n",
    "plt.plot(*avg_cat, 'b+', markersize=15, label='average cat')\n",
    "plt.plot(*avg_dog, 'r+', markersize=15, label='average dog')\n",
    "plt.plot(*avg_pt, 'k+', markersize=15, label='mid point')\n",
    "plt.plot(*list(zip(avg_cat, avg_pt)), 'b--')\n",
    "plt.plot(*list(zip(avg_pt, avg_dog)), 'r--')\n",
    "plt.plot([0, 13], [13, 0], 'k--')\n",
    "\n",
    "# Misclassified example\n",
    "plt.plot(7, 4, 'bo', markersize=15, markerfacecolor='none', label='misclassified')\n",
    "\n",
    "plt.legend()\n",
    "plt.show()"
   ]
  },
  {
   "cell_type": "markdown",
   "metadata": {},
   "source": [
    "## Perceptron"
   ]
  },
  {
   "cell_type": "markdown",
   "metadata": {},
   "source": [
    "Perceptron algorithm could help to overcome this misclassification by iteratively adjusting the separation plane. \n",
    "\n",
    "Below you can find not the super-efficient but hopefully understandable implementation of perceptron."
   ]
  },
  {
   "cell_type": "code",
   "execution_count": 143,
   "metadata": {},
   "outputs": [],
   "source": [
    "def perceptron(data, w, learning_rate=1):\n",
    "    all_w = [w[:]]  # Store all the weights\n",
    "    not_correct = True  # Set termination condition\n",
    "    \n",
    "    while not_correct:\n",
    "        not_correct = False\n",
    "        \n",
    "        for i in range(data.shape[0]):  # Loop over all the data points\n",
    "            \n",
    "            x = data.loc[i]\n",
    "            prediction = w[0] + w[1] * x[\"mass\"] + w[2] * x[\"height\"]\n",
    "            \n",
    "            # In case of misclassification adjust the weights\n",
    "            if prediction <= 0 and x[\"label\"] == 'dog':\n",
    "                w[0] += learning_rate * 1\n",
    "                w[1] += learning_rate * x[\"mass\"]\n",
    "                w[2] += learning_rate * x[\"height\"]\n",
    "                all_w.append(w[:])\n",
    "                not_correct = True\n",
    "                \n",
    "            elif prediction > 0 and x[\"label\"] == 'cat':\n",
    "                w[0] -= learning_rate * 1\n",
    "                w[1] -= learning_rate * x[\"mass\"]\n",
    "                w[2] -= learning_rate * x[\"height\"]\n",
    "                all_w.append(w[:])\n",
    "                not_correct = True\n",
    "                \n",
    "    return w, all_w"
   ]
  },
  {
   "cell_type": "code",
   "execution_count": 170,
   "metadata": {},
   "outputs": [],
   "source": [
    "def plot_perceptron_iterations(data, w, learning_rate=1):\n",
    "    w, all_w = perceptron(data, w, learning_rate)\n",
    "    plot_cats_vs_dogs(data)\n",
    "\n",
    "    for i in range(len(all_w) - 1):\n",
    "        w = all_w[i]\n",
    "        x = np.linspace(0,15,100)\n",
    "        y = (-1) * (w[1] / (w[2]+1e-8) * x - w[0] / (w[2]+1e-8)) # this is necessary to change the line formula into a format we can use for plotting\n",
    "        plt.plot(x, y, color = \"grey\")\n",
    "\n",
    "    # plot the final vector\n",
    "    w = all_w[-1]\n",
    "    x = np.linspace(0,15,100)\n",
    "    y = (-1) * (w[1] / w[2]) * x - w[0] / w[2]\n",
    "    plt.plot(x, y, color = \"green\")\n",
    "\n",
    "    plt.show()\n",
    "    return w, all_w"
   ]
  },
  {
   "cell_type": "markdown",
   "metadata": {},
   "source": [
    "Play around with different weight initializations"
   ]
  },
  {
   "cell_type": "code",
   "execution_count": 175,
   "metadata": {},
   "outputs": [
    {
     "data": {
      "image/png": "[encoded data removed]",
      "text/plain": [
       "<matplotlib.figure.Figure at 0x289800f69b0>"
      ]
     },
     "metadata": {},
     "output_type": "display_data"
    },
    {
     "name": "stdout",
     "output_type": "stream",
     "text": [
      "Iterations: 4\n",
      "Weight vector: [-3, 0, 1]\n"
     ]
    }
   ],
   "source": [
    "w = [-2, 1, 1]\n",
    "learning_rate = 1\n",
    "\n",
    "w, all_w = plot_perceptron_iterations(data, w, learning_rate)\n",
    "print('Iterations:', len(all_w))\n",
    "print('Weight vector:', w)"
   ]
  },
  {
   "cell_type": "markdown",
   "metadata": {},
   "source": [
    "**Quesions:**\n",
    "\n",
    "1. Is this separation optimal?\n",
    "2. What happens if we change the initial wector?\n",
    "3. What happens if we change the learning rate?"
   ]
  }
 ],
 "metadata": {
  "kernelspec": {
   "display_name": "Python 3",
   "language": "python",
   "name": "python3"
  },
  "language_info": {
   "codemirror_mode": {
    "name": "ipython",
    "version": 3
   },
   "file_extension": ".py",
   "mimetype": "text/x-python",
   "name": "python",
   "nbconvert_exporter": "python",
   "pygments_lexer": "ipython3",
   "version": "3.6.7"
  }
 },
 "nbformat": 4,
 "nbformat_minor": 2
}
