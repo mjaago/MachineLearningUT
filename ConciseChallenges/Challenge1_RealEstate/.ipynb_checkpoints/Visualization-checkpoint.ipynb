{
 "cells": [
  {
   "cell_type": "code",
   "execution_count": 1,
   "metadata": {},
   "outputs": [],
   "source": [
    "%load_ext autoreload"
   ]
  },
  {
   "cell_type": "code",
   "execution_count": 18,
   "metadata": {},
   "outputs": [],
   "source": [
    "%autoreload 2\n",
    "%matplotlib inline\n",
    "\n",
    "import sklearn\n",
    "import pandas as pd\n",
    "import matplotlib.pyplot as plt\n",
    "\n",
    "from sklearn.pipeline import Pipeline\n",
    "from sklearn.compose import ColumnTransformer\n",
    "from transformers.preprocessing import CountyTransformer, NoTransformer, RealestateTypeTransformer, PriceOutlierRemoval"
   ]
  },
  {
   "cell_type": "code",
   "execution_count": 76,
   "metadata": {},
   "outputs": [],
   "source": [
    "train_data = pd.read_csv(\"data/traindata.csv\")"
   ]
  },
  {
   "cell_type": "code",
   "execution_count": 77,
   "metadata": {},
   "outputs": [],
   "source": [
    "cleanse_pipe = Pipeline(\n",
    "    [('group_county', CountyTransformer()),\n",
    "     ('type', RealestateTypeTransformer()),\n",
    "     ('z_score_outlier_drop', PriceOutlierRemoval())])\n",
    "cleaned_data = cleanse_pipe.fit_transform(train_data)"
   ]
  },
  {
   "cell_type": "code",
   "execution_count": 95,
   "metadata": {},
   "outputs": [],
   "source": [
    "grouped_median_price = cleaned_data.groupby(['action', 'estate_type'])['Hind'].median()"
   ]
  },
  {
   "cell_type": "code",
   "execution_count": 108,
   "metadata": {},
   "outputs": [
    {
     "data": {
      "text/plain": [
       "0         63280.00\n",
       "1         63280.00\n",
       "2         63280.00\n",
       "3         63280.00\n",
       "4         63280.00\n",
       "5         63280.00\n",
       "6          1585.20\n",
       "7           332.34\n",
       "8         63280.00\n",
       "9         63280.00\n",
       "10        63280.00\n",
       "11        63280.00\n",
       "12          332.34\n",
       "13        63280.00\n",
       "14        63280.00\n",
       "15        67000.00\n",
       "16        63280.00\n",
       "17          332.34\n",
       "18        63280.00\n",
       "19          332.34\n",
       "20        63280.00\n",
       "21        63280.00\n",
       "22        63280.00\n",
       "23        63280.00\n",
       "24        63280.00\n",
       "25          332.34\n",
       "26        63280.00\n",
       "27          332.34\n",
       "28          332.34\n",
       "29        63280.00\n",
       "            ...   \n",
       "179971    63280.00\n",
       "179972    63280.00\n",
       "179973    63280.00\n",
       "179974    63280.00\n",
       "179975      332.34\n",
       "179976    63280.00\n",
       "179977      332.34\n",
       "179978    63280.00\n",
       "179979    63280.00\n",
       "179980    63280.00\n",
       "179981    63280.00\n",
       "179982    63280.00\n",
       "179983    63280.00\n",
       "179984    63280.00\n",
       "179985    63280.00\n",
       "179986    63280.00\n",
       "179987    63280.00\n",
       "179988      332.34\n",
       "179989    63280.00\n",
       "179990    63280.00\n",
       "179991    63280.00\n",
       "179992    63280.00\n",
       "179993    63280.00\n",
       "179994      332.34\n",
       "179995      332.34\n",
       "179996    63280.00\n",
       "179997    63280.00\n",
       "179998    63280.00\n",
       "179999    63280.00\n",
       "180000    63280.00\n",
       "Length: 176947, dtype: float64"
      ]
     },
     "execution_count": 108,
     "metadata": {},
     "output_type": "execute_result"
    }
   ],
   "source": [
    "cleaned_data.apply(lambda x : groupy[x['action']][x['estate_type']], axis=1)"
   ]
  },
  {
   "cell_type": "markdown",
   "metadata": {},
   "source": [
    "# Convert non-numeric cols for visuals"
   ]
  },
  {
   "cell_type": "code",
   "execution_count": 96,
   "metadata": {},
   "outputs": [],
   "source": [
    "cleaned_data['fac_action'] = cleaned_data['action'].factorize()[0]\n",
    "cleaned_data['fac_est_type'] = cleaned_data['estate_type'].factorize()[0]"
   ]
  },
  {
   "cell_type": "markdown",
   "metadata": {},
   "source": [
    "# Remove/add features"
   ]
  },
  {
   "cell_type": "code",
   "execution_count": 109,
   "metadata": {},
   "outputs": [],
   "source": [
    "cleaned_data['Tube'] = abs(cleaned_data['Tube'])\n",
    "cleaned_data['Korrus'] = abs(cleaned_data['Korrus'])\n",
    "cleaned_data['price_median_multiplier'] = cleaned_data['Hind'] / cleaned_data['price_median_multiplier'] = cleaned_data['Hind'] / cleaned_data['Hind']"
   ]
  },
  {
   "cell_type": "markdown",
   "metadata": {},
   "source": [
    "# Visualize"
   ]
  },
  {
   "cell_type": "code",
   "execution_count": 110,
   "metadata": {},
   "outputs": [
    {
     "data": {
      "text/html": [
       "<div>\n",
       "<style scoped>\n",
       "    .dataframe tbody tr th:only-of-type {\n",
       "        vertical-align: middle;\n",
       "    }\n",
       "\n",
       "    .dataframe tbody tr th {\n",
       "        vertical-align: top;\n",
       "    }\n",
       "\n",
       "    .dataframe thead th {\n",
       "        text-align: right;\n",
       "    }\n",
       "</style>\n",
       "<table border=\"1\" class=\"dataframe\">\n",
       "  <thead>\n",
       "    <tr style=\"text-align: right;\">\n",
       "      <th></th>\n",
       "      <th>id</th>\n",
       "      <th>Tube</th>\n",
       "      <th>Üldpind</th>\n",
       "      <th>Ehitusaasta</th>\n",
       "      <th>Korrus</th>\n",
       "      <th>Korruseid</th>\n",
       "      <th>Hind</th>\n",
       "      <th>price_median_multiplier</th>\n",
       "      <th>fac_action</th>\n",
       "      <th>fac_est_type</th>\n",
       "    </tr>\n",
       "  </thead>\n",
       "  <tbody>\n",
       "    <tr>\n",
       "      <th>id</th>\n",
       "      <td>1.000000</td>\n",
       "      <td>-0.009699</td>\n",
       "      <td>-0.004634</td>\n",
       "      <td>0.011200</td>\n",
       "      <td>0.008531</td>\n",
       "      <td>-0.005005</td>\n",
       "      <td>0.135634</td>\n",
       "      <td>NaN</td>\n",
       "      <td>0.026894</td>\n",
       "      <td>-0.036699</td>\n",
       "    </tr>\n",
       "    <tr>\n",
       "      <th>Tube</th>\n",
       "      <td>-0.009699</td>\n",
       "      <td>1.000000</td>\n",
       "      <td>0.036879</td>\n",
       "      <td>-0.030871</td>\n",
       "      <td>-0.020314</td>\n",
       "      <td>-0.031687</td>\n",
       "      <td>0.332260</td>\n",
       "      <td>NaN</td>\n",
       "      <td>-0.134994</td>\n",
       "      <td>0.155026</td>\n",
       "    </tr>\n",
       "    <tr>\n",
       "      <th>Üldpind</th>\n",
       "      <td>-0.004634</td>\n",
       "      <td>0.036879</td>\n",
       "      <td>1.000000</td>\n",
       "      <td>-0.000559</td>\n",
       "      <td>-0.005760</td>\n",
       "      <td>-0.005000</td>\n",
       "      <td>0.013235</td>\n",
       "      <td>NaN</td>\n",
       "      <td>-0.002808</td>\n",
       "      <td>0.054928</td>\n",
       "    </tr>\n",
       "    <tr>\n",
       "      <th>Ehitusaasta</th>\n",
       "      <td>0.011200</td>\n",
       "      <td>-0.030871</td>\n",
       "      <td>-0.000559</td>\n",
       "      <td>1.000000</td>\n",
       "      <td>0.072395</td>\n",
       "      <td>0.059407</td>\n",
       "      <td>0.033765</td>\n",
       "      <td>NaN</td>\n",
       "      <td>0.013062</td>\n",
       "      <td>-0.056256</td>\n",
       "    </tr>\n",
       "    <tr>\n",
       "      <th>Korrus</th>\n",
       "      <td>0.008531</td>\n",
       "      <td>-0.020314</td>\n",
       "      <td>-0.005760</td>\n",
       "      <td>0.072395</td>\n",
       "      <td>1.000000</td>\n",
       "      <td>0.340427</td>\n",
       "      <td>0.032954</td>\n",
       "      <td>NaN</td>\n",
       "      <td>0.063702</td>\n",
       "      <td>-0.130079</td>\n",
       "    </tr>\n",
       "    <tr>\n",
       "      <th>Korruseid</th>\n",
       "      <td>-0.005005</td>\n",
       "      <td>-0.031687</td>\n",
       "      <td>-0.005000</td>\n",
       "      <td>0.059407</td>\n",
       "      <td>0.340427</td>\n",
       "      <td>1.000000</td>\n",
       "      <td>0.008233</td>\n",
       "      <td>NaN</td>\n",
       "      <td>0.055328</td>\n",
       "      <td>-0.082199</td>\n",
       "    </tr>\n",
       "    <tr>\n",
       "      <th>Hind</th>\n",
       "      <td>0.135634</td>\n",
       "      <td>0.332260</td>\n",
       "      <td>0.013235</td>\n",
       "      <td>0.033765</td>\n",
       "      <td>0.032954</td>\n",
       "      <td>0.008233</td>\n",
       "      <td>1.000000</td>\n",
       "      <td>NaN</td>\n",
       "      <td>-0.475193</td>\n",
       "      <td>-0.006929</td>\n",
       "    </tr>\n",
       "    <tr>\n",
       "      <th>price_median_multiplier</th>\n",
       "      <td>NaN</td>\n",
       "      <td>NaN</td>\n",
       "      <td>NaN</td>\n",
       "      <td>NaN</td>\n",
       "      <td>NaN</td>\n",
       "      <td>NaN</td>\n",
       "      <td>NaN</td>\n",
       "      <td>NaN</td>\n",
       "      <td>NaN</td>\n",
       "      <td>NaN</td>\n",
       "    </tr>\n",
       "    <tr>\n",
       "      <th>fac_action</th>\n",
       "      <td>0.026894</td>\n",
       "      <td>-0.134994</td>\n",
       "      <td>-0.002808</td>\n",
       "      <td>0.013062</td>\n",
       "      <td>0.063702</td>\n",
       "      <td>0.055328</td>\n",
       "      <td>-0.475193</td>\n",
       "      <td>NaN</td>\n",
       "      <td>1.000000</td>\n",
       "      <td>0.010385</td>\n",
       "    </tr>\n",
       "    <tr>\n",
       "      <th>fac_est_type</th>\n",
       "      <td>-0.036699</td>\n",
       "      <td>0.155026</td>\n",
       "      <td>0.054928</td>\n",
       "      <td>-0.056256</td>\n",
       "      <td>-0.130079</td>\n",
       "      <td>-0.082199</td>\n",
       "      <td>-0.006929</td>\n",
       "      <td>NaN</td>\n",
       "      <td>0.010385</td>\n",
       "      <td>1.000000</td>\n",
       "    </tr>\n",
       "  </tbody>\n",
       "</table>\n",
       "</div>"
      ],
      "text/plain": [
       "                               id      Tube   Üldpind  Ehitusaasta    Korrus  \\\n",
       "id                       1.000000 -0.009699 -0.004634     0.011200  0.008531   \n",
       "Tube                    -0.009699  1.000000  0.036879    -0.030871 -0.020314   \n",
       "Üldpind                 -0.004634  0.036879  1.000000    -0.000559 -0.005760   \n",
       "Ehitusaasta              0.011200 -0.030871 -0.000559     1.000000  0.072395   \n",
       "Korrus                   0.008531 -0.020314 -0.005760     0.072395  1.000000   \n",
       "Korruseid               -0.005005 -0.031687 -0.005000     0.059407  0.340427   \n",
       "Hind                     0.135634  0.332260  0.013235     0.033765  0.032954   \n",
       "price_median_multiplier       NaN       NaN       NaN          NaN       NaN   \n",
       "fac_action               0.026894 -0.134994 -0.002808     0.013062  0.063702   \n",
       "fac_est_type            -0.036699  0.155026  0.054928    -0.056256 -0.130079   \n",
       "\n",
       "                         Korruseid      Hind  price_median_multiplier  \\\n",
       "id                       -0.005005  0.135634                      NaN   \n",
       "Tube                     -0.031687  0.332260                      NaN   \n",
       "Üldpind                  -0.005000  0.013235                      NaN   \n",
       "Ehitusaasta               0.059407  0.033765                      NaN   \n",
       "Korrus                    0.340427  0.032954                      NaN   \n",
       "Korruseid                 1.000000  0.008233                      NaN   \n",
       "Hind                      0.008233  1.000000                      NaN   \n",
       "price_median_multiplier        NaN       NaN                      NaN   \n",
       "fac_action                0.055328 -0.475193                      NaN   \n",
       "fac_est_type             -0.082199 -0.006929                      NaN   \n",
       "\n",
       "                         fac_action  fac_est_type  \n",
       "id                         0.026894     -0.036699  \n",
       "Tube                      -0.134994      0.155026  \n",
       "Üldpind                   -0.002808      0.054928  \n",
       "Ehitusaasta                0.013062     -0.056256  \n",
       "Korrus                     0.063702     -0.130079  \n",
       "Korruseid                  0.055328     -0.082199  \n",
       "Hind                      -0.475193     -0.006929  \n",
       "price_median_multiplier         NaN           NaN  \n",
       "fac_action                 1.000000      0.010385  \n",
       "fac_est_type               0.010385      1.000000  "
      ]
     },
     "execution_count": 110,
     "metadata": {},
     "output_type": "execute_result"
    }
   ],
   "source": [
    "cleaned_data.corr()"
   ]
  },
  {
   "cell_type": "code",
   "execution_count": 65,
   "metadata": {},
   "outputs": [
    {
     "data": {
      "text/plain": [
       "array([[<matplotlib.axes._subplots.AxesSubplot object at 0x7f8db7458320>,\n",
       "        <matplotlib.axes._subplots.AxesSubplot object at 0x7f8db3c1be10>,\n",
       "        <matplotlib.axes._subplots.AxesSubplot object at 0x7f8db7444080>],\n",
       "       [<matplotlib.axes._subplots.AxesSubplot object at 0x7f8db7440da0>,\n",
       "        <matplotlib.axes._subplots.AxesSubplot object at 0x7f8db3c1ba20>,\n",
       "        <matplotlib.axes._subplots.AxesSubplot object at 0x7f8daed4e8d0>],\n",
       "       [<matplotlib.axes._subplots.AxesSubplot object at 0x7f8db167db38>,\n",
       "        <matplotlib.axes._subplots.AxesSubplot object at 0x7f8db1082d68>,\n",
       "        <matplotlib.axes._subplots.AxesSubplot object at 0x7f8db1082da0>],\n",
       "       [<matplotlib.axes._subplots.AxesSubplot object at 0x7f8db4593278>,\n",
       "        <matplotlib.axes._subplots.AxesSubplot object at 0x7f8db1601518>,\n",
       "        <matplotlib.axes._subplots.AxesSubplot object at 0x7f8db15d5780>]],\n",
       "      dtype=object)"
      ]
     },
     "execution_count": 65,
     "metadata": {},
     "output_type": "execute_result"
    },
    {
     "data": {
      "image/png": "[encoded data removed]",
      "text/plain": [
       "<Figure size 1440x1080 with 12 Axes>"
      ]
     },
     "metadata": {
      "needs_background": "light"
     },
     "output_type": "display_data"
    }
   ],
   "source": [
    "cleaned_data.hist(bins=50, figsize=(20,15))\n"
   ]
  },
  {
   "cell_type": "code",
   "execution_count": null,
   "metadata": {},
   "outputs": [],
   "source": []
  }
 ],
 "metadata": {
  "kernelspec": {
   "display_name": "Python 3",
   "language": "python",
   "name": "python3"
  },
  "language_info": {
   "codemirror_mode": {
    "name": "ipython",
    "version": 3
   },
   "file_extension": ".py",
   "mimetype": "text/x-python",
   "name": "python",
   "nbconvert_exporter": "python",
   "pygments_lexer": "ipython3",
   "version": "3.6.7"
  }
 },
 "nbformat": 4,
 "nbformat_minor": 4
}
